{
 "cells": [
  {
   "cell_type": "code",
   "execution_count": 1,
   "id": "ce76dde6",
   "metadata": {
    "execution": {
     "iopub.execute_input": "2022-02-26T22:12:38.542746Z",
     "iopub.status.busy": "2022-02-26T22:12:38.541380Z",
     "iopub.status.idle": "2022-02-26T22:12:38.560117Z",
     "shell.execute_reply": "2022-02-26T22:12:38.560838Z",
     "shell.execute_reply.started": "2022-02-20T16:42:11.279838Z"
    },
    "papermill": {
     "duration": 0.0607,
     "end_time": "2022-02-26T22:12:38.561231",
     "exception": false,
     "start_time": "2022-02-26T22:12:38.500531",
     "status": "completed"
    },
    "tags": []
   },
   "outputs": [
    {
     "name": "stdout",
     "output_type": "stream",
     "text": [
      "False\n"
     ]
    }
   ],
   "source": [
    "#reference : https://www.kaggle.com/librauee\n",
    "import os\n",
    "IS_COLAB = not os.path.exists('/kaggle/input')\n",
    "print(IS_COLAB) "
   ]
  },
  {
   "cell_type": "code",
   "execution_count": 2,
   "id": "ac3f8aea",
   "metadata": {
    "execution": {
     "iopub.execute_input": "2022-02-26T22:12:38.625153Z",
     "iopub.status.busy": "2022-02-26T22:12:38.624150Z",
     "iopub.status.idle": "2022-02-26T22:12:50.067699Z",
     "shell.execute_reply": "2022-02-26T22:12:50.068228Z",
     "shell.execute_reply.started": "2022-02-20T16:42:12.325475Z"
    },
    "papermill": {
     "duration": 11.475708,
     "end_time": "2022-02-26T22:12:50.068414",
     "exception": false,
     "start_time": "2022-02-26T22:12:38.592706",
     "status": "completed"
    },
    "tags": []
   },
   "outputs": [
    {
     "name": "stderr",
     "output_type": "stream",
     "text": [
      "2022-02-26 22:12:39.245082: W tensorflow/stream_executor/platform/default/dso_loader.cc:60] Could not load dynamic library 'libcudart.so.11.0'; dlerror: libcudart.so.11.0: cannot open shared object file: No such file or directory; LD_LIBRARY_PATH: /opt/conda/lib\n",
      "2022-02-26 22:12:39.245211: I tensorflow/stream_executor/cuda/cudart_stub.cc:29] Ignore above cudart dlerror if you do not have a GPU set up on your machine.\n"
     ]
    },
    {
     "name": "stdout",
     "output_type": "stream",
     "text": [
      "Running on TPU  grpc://10.0.0.2:8470\n"
     ]
    },
    {
     "name": "stderr",
     "output_type": "stream",
     "text": [
      "2022-02-26 22:12:44.130505: I tensorflow/compiler/jit/xla_cpu_device.cc:41] Not creating XLA devices, tf_xla_enable_xla_devices not set\n",
      "2022-02-26 22:12:44.133431: W tensorflow/stream_executor/platform/default/dso_loader.cc:60] Could not load dynamic library 'libcuda.so.1'; dlerror: libcuda.so.1: cannot open shared object file: No such file or directory; LD_LIBRARY_PATH: /opt/conda/lib\n",
      "2022-02-26 22:12:44.133473: W tensorflow/stream_executor/cuda/cuda_driver.cc:326] failed call to cuInit: UNKNOWN ERROR (303)\n",
      "2022-02-26 22:12:44.133501: I tensorflow/stream_executor/cuda/cuda_diagnostics.cc:156] kernel driver does not appear to be running on this host (94febcbb390e): /proc/driver/nvidia/version does not exist\n",
      "2022-02-26 22:12:44.137384: I tensorflow/core/platform/cpu_feature_guard.cc:142] This TensorFlow binary is optimized with oneAPI Deep Neural Network Library (oneDNN) to use the following CPU instructions in performance-critical operations:  AVX2 FMA\n",
      "To enable them in other operations, rebuild TensorFlow with the appropriate compiler flags.\n",
      "2022-02-26 22:12:44.139093: I tensorflow/compiler/jit/xla_gpu_device.cc:99] Not creating XLA devices, tf_xla_enable_xla_devices not set\n",
      "2022-02-26 22:12:44.168654: I tensorflow/core/distributed_runtime/rpc/grpc_channel.cc:301] Initialize GrpcChannelCache for job worker -> {0 -> 10.0.0.2:8470}\n",
      "2022-02-26 22:12:44.168711: I tensorflow/core/distributed_runtime/rpc/grpc_channel.cc:301] Initialize GrpcChannelCache for job localhost -> {0 -> localhost:30019}\n",
      "2022-02-26 22:12:44.192199: I tensorflow/core/distributed_runtime/rpc/grpc_channel.cc:301] Initialize GrpcChannelCache for job worker -> {0 -> 10.0.0.2:8470}\n",
      "2022-02-26 22:12:44.192253: I tensorflow/core/distributed_runtime/rpc/grpc_channel.cc:301] Initialize GrpcChannelCache for job localhost -> {0 -> localhost:30019}\n",
      "2022-02-26 22:12:44.193980: I tensorflow/core/distributed_runtime/rpc/grpc_server_lib.cc:411] Started server with target: grpc://localhost:30019\n"
     ]
    },
    {
     "name": "stdout",
     "output_type": "stream",
     "text": [
      "REPLICAS:  8\n"
     ]
    }
   ],
   "source": [
    "import tensorflow as tf\n",
    "try:\n",
    "    # TPU detection. No parameters necessary if TPU_NAME environment variable is\n",
    "    # set: this is always the case on Kaggle.\n",
    "    tpu = tf.distribute.cluster_resolver.TPUClusterResolver()\n",
    "    print('Running on TPU ', tpu.master())\n",
    "except ValueError:\n",
    "    tpu = None\n",
    "\n",
    "if tpu:\n",
    "    tf.config.experimental_connect_to_cluster(tpu)\n",
    "    tf.tpu.experimental.initialize_tpu_system(tpu)\n",
    "    strategy = tf.distribute.TPUStrategy(tpu)\n",
    "else:\n",
    "    # Default distribution strategy in Tensorflow. Works on CPU and single GPU.\n",
    "    strategy = tf.distribute.get_strategy()\n",
    "\n",
    "AUTO = tf.data.experimental.AUTOTUNE\n",
    "print(\"REPLICAS: \", strategy.num_replicas_in_sync)"
   ]
  },
  {
   "cell_type": "code",
   "execution_count": 3,
   "id": "0c67f773",
   "metadata": {
    "execution": {
     "iopub.execute_input": "2022-02-26T22:12:50.134369Z",
     "iopub.status.busy": "2022-02-26T22:12:50.133696Z",
     "iopub.status.idle": "2022-02-26T22:12:50.137683Z",
     "shell.execute_reply": "2022-02-26T22:12:50.137115Z",
     "shell.execute_reply.started": "2022-02-20T16:42:20.004598Z"
    },
    "papermill": {
     "duration": 0.038792,
     "end_time": "2022-02-26T22:12:50.137847",
     "exception": false,
     "start_time": "2022-02-26T22:12:50.099055",
     "status": "completed"
    },
    "tags": []
   },
   "outputs": [],
   "source": [
    "if IS_COLAB:\n",
    "  from google.colab import drive\n",
    "  drive.mount('/content/drive')\n",
    "else:\n",
    "  from kaggle_datasets import KaggleDatasets"
   ]
  },
  {
   "cell_type": "code",
   "execution_count": 4,
   "id": "e938de02",
   "metadata": {
    "execution": {
     "iopub.execute_input": "2022-02-26T22:12:50.209474Z",
     "iopub.status.busy": "2022-02-26T22:12:50.208466Z",
     "iopub.status.idle": "2022-02-26T22:13:09.661804Z",
     "shell.execute_reply": "2022-02-26T22:13:09.661200Z",
     "shell.execute_reply.started": "2022-02-20T16:42:20.011443Z"
    },
    "papermill": {
     "duration": 19.491797,
     "end_time": "2022-02-26T22:13:09.661957",
     "exception": false,
     "start_time": "2022-02-26T22:12:50.170160",
     "status": "completed"
    },
    "tags": []
   },
   "outputs": [
    {
     "name": "stdout",
     "output_type": "stream",
     "text": [
      "\u001b[33mWARNING: Running pip as the 'root' user can result in broken permissions and conflicting behaviour with the system package manager. It is recommended to use a virtual environment instead: https://pip.pypa.io/warnings/venv\u001b[0m\r\n",
      "Requirement already satisfied: tensorflow_addons in /opt/conda/lib/python3.7/site-packages (0.12.1)\r\n",
      "Requirement already satisfied: typeguard>=2.7 in /opt/conda/lib/python3.7/site-packages (from tensorflow_addons) (2.12.1)\r\n",
      "\u001b[33mWARNING: Running pip as the 'root' user can result in broken permissions and conflicting behaviour with the system package manager. It is recommended to use a virtual environment instead: https://pip.pypa.io/warnings/venv\u001b[0m\r\n"
     ]
    }
   ],
   "source": [
    "!pip install -q efficientnet\n",
    "!pip install tensorflow_addons\n",
    "import re\n",
    "import os\n",
    "import numpy as np\n",
    "import pandas as pd\n",
    "import random\n",
    "import math\n",
    "import tensorflow as tf\n",
    "import efficientnet.tfkeras as efn\n",
    "from sklearn import metrics\n",
    "from sklearn.model_selection import KFold, train_test_split\n",
    "from tensorflow.keras import backend as K\n",
    "import tensorflow_addons as tfa\n",
    "from tqdm.auto import tqdm\n",
    "import matplotlib.pyplot as plt\n",
    "import pickle\n",
    "import json\n",
    "import tensorflow_hub as tfhub\n",
    "from datetime import datetime"
   ]
  },
  {
   "cell_type": "markdown",
   "id": "87dfc220",
   "metadata": {
    "papermill": {
     "duration": 0.031303,
     "end_time": "2022-02-26T22:13:09.726256",
     "exception": false,
     "start_time": "2022-02-26T22:13:09.694953",
     "status": "completed"
    },
    "tags": []
   },
   "source": [
    "## Config"
   ]
  },
  {
   "cell_type": "code",
   "execution_count": 5,
   "id": "08509c3a",
   "metadata": {
    "execution": {
     "iopub.execute_input": "2022-02-26T22:13:09.796428Z",
     "iopub.status.busy": "2022-02-26T22:13:09.795711Z",
     "iopub.status.idle": "2022-02-26T22:13:09.799297Z",
     "shell.execute_reply": "2022-02-26T22:13:09.798603Z",
     "shell.execute_reply.started": "2022-02-20T16:42:36.415322Z"
    },
    "papermill": {
     "duration": 0.041723,
     "end_time": "2022-02-26T22:13:09.799445",
     "exception": false,
     "start_time": "2022-02-26T22:13:09.757722",
     "status": "completed"
    },
    "tags": []
   },
   "outputs": [
    {
     "name": "stdout",
     "output_type": "stream",
     "text": [
      "20220226-221309\n"
     ]
    }
   ],
   "source": [
    "save_dir = '.'\n",
    "EXPERIMENT = 0\n",
    "run_ts = datetime.now().strftime('%Y%m%d-%H%M%S')\n",
    "print(run_ts)\n",
    "if IS_COLAB:\n",
    "    save_dir = f'/content/drive/MyDrive/Kaggle/HappyWhale-2022/experiments-{EXPERIMENT}/{run_ts}'\n",
    "    !mkdir -p {save_dir}"
   ]
  },
  {
   "cell_type": "code",
   "execution_count": 6,
   "id": "677f3721",
   "metadata": {
    "execution": {
     "iopub.execute_input": "2022-02-26T22:13:09.877288Z",
     "iopub.status.busy": "2022-02-26T22:13:09.876548Z",
     "iopub.status.idle": "2022-02-26T22:13:09.879992Z",
     "shell.execute_reply": "2022-02-26T22:13:09.879435Z",
     "shell.execute_reply.started": "2022-02-20T16:42:36.423349Z"
    },
    "papermill": {
     "duration": 0.047801,
     "end_time": "2022-02-26T22:13:09.880139",
     "exception": false,
     "start_time": "2022-02-26T22:13:09.832338",
     "status": "completed"
    },
    "tags": []
   },
   "outputs": [
    {
     "name": "stdout",
     "output_type": "stream",
     "text": [
      "False\n"
     ]
    }
   ],
   "source": [
    "class config:\n",
    "    \n",
    "    \n",
    "    SEED = 42\n",
    "    FOLD_TO_RUN = 0#In this notebook, we do not train models \n",
    "    FOLDS = 5\n",
    "    DEBUG = False\n",
    "    EVALUATE = True\n",
    "    RESUME = False\n",
    "    RESUME_EPOCH = None\n",
    "    \n",
    "    \n",
    "    ### Dataset\n",
    "    BATCH_SIZE = 32 * strategy.num_replicas_in_sync\n",
    "    IMAGE_SIZE = 780 #768\n",
    "    N_CLASSES = 15587\n",
    "    \n",
    "    ### Model\n",
    "    model_type = 'effnetv1'  \n",
    "    EFF_NET = 6\n",
    "    EFF_NETV2 = 's-21k-ft1k'\n",
    "    FREEZE_BATCH_NORM = False\n",
    "    head = 'arcface' \n",
    "    EPOCHS = 0\n",
    "    LR = 0.001\n",
    "    message='baseline'\n",
    "    \n",
    "    ### Augmentations\n",
    "    CUTOUT = False\n",
    "    \n",
    "    ### Save-Directory\n",
    "    save_dir = save_dir\n",
    "    \n",
    "    ### Inference\n",
    "    KNN = 100\n",
    "    \n",
    "def count_data_items(filenames):\n",
    "    n = [int(re.compile(r\"-([0-9]*)\\.\").search(filename).group(1)) \n",
    "         for filename in filenames]\n",
    "    return np.sum(n)\n",
    "\n",
    "# Function to seed everything\n",
    "def seed_everything(seed):\n",
    "    random.seed(seed)\n",
    "    np.random.seed(seed)\n",
    "    os.environ['PYTHONHASHSEED'] = str(seed)\n",
    "    tf.random.set_seed(seed)\n",
    "    \n",
    "def is_interactive():\n",
    "    return 'runtime'    in get_ipython().config.IPKernelApp.connection_file\n",
    "IS_INTERACTIVE = is_interactive()\n",
    "print(IS_INTERACTIVE)"
   ]
  },
  {
   "cell_type": "code",
   "execution_count": 7,
   "id": "593da8ac",
   "metadata": {
    "execution": {
     "iopub.execute_input": "2022-02-26T22:13:09.948119Z",
     "iopub.status.busy": "2022-02-26T22:13:09.947371Z",
     "iopub.status.idle": "2022-02-26T22:13:09.953518Z",
     "shell.execute_reply": "2022-02-26T22:13:09.954057Z",
     "shell.execute_reply.started": "2022-02-20T16:42:36.440453Z"
    },
    "papermill": {
     "duration": 0.042419,
     "end_time": "2022-02-26T22:13:09.954258",
     "exception": false,
     "start_time": "2022-02-26T22:13:09.911839",
     "status": "completed"
    },
    "tags": []
   },
   "outputs": [
    {
     "name": "stdout",
     "output_type": "stream",
     "text": [
      "effnetv1_b6\n"
     ]
    }
   ],
   "source": [
    "MODEL_NAME = None\n",
    "if config.model_type == 'effnetv1':\n",
    "    MODEL_NAME = f'effnetv1_b{config.EFF_NET}'\n",
    "elif config.model_type == 'effnetv2':\n",
    "    MODEL_NAME = f'effnetv2_{config.EFF_NETV2}'\n",
    "\n",
    "config.MODEL_NAME = MODEL_NAME\n",
    "print(MODEL_NAME)"
   ]
  },
  {
   "cell_type": "code",
   "execution_count": 8,
   "id": "e02cf802",
   "metadata": {
    "execution": {
     "iopub.execute_input": "2022-02-26T22:13:10.025979Z",
     "iopub.status.busy": "2022-02-26T22:13:10.025054Z",
     "iopub.status.idle": "2022-02-26T22:13:10.027531Z",
     "shell.execute_reply": "2022-02-26T22:13:10.028395Z",
     "shell.execute_reply.started": "2022-02-20T16:42:36.45806Z"
    },
    "papermill": {
     "duration": 0.041161,
     "end_time": "2022-02-26T22:13:10.028574",
     "exception": false,
     "start_time": "2022-02-26T22:13:09.987413",
     "status": "completed"
    },
    "tags": []
   },
   "outputs": [],
   "source": [
    "with open(config.save_dir+'/config.json', 'w') as fp:\n",
    "    json.dump({x:dict(config.__dict__)[x] for x in dict(config.__dict__) if not x.startswith('_')}, fp)"
   ]
  },
  {
   "cell_type": "code",
   "execution_count": 9,
   "id": "8cf05b0e",
   "metadata": {
    "execution": {
     "iopub.execute_input": "2022-02-26T22:13:10.109544Z",
     "iopub.status.busy": "2022-02-26T22:13:10.108822Z",
     "iopub.status.idle": "2022-02-26T22:13:10.648928Z",
     "shell.execute_reply": "2022-02-26T22:13:10.649447Z",
     "shell.execute_reply.started": "2022-02-20T16:42:36.468367Z"
    },
    "papermill": {
     "duration": 0.587699,
     "end_time": "2022-02-26T22:13:10.649637",
     "exception": false,
     "start_time": "2022-02-26T22:13:10.061938",
     "status": "completed"
    },
    "tags": []
   },
   "outputs": [
    {
     "name": "stdout",
     "output_type": "stream",
     "text": [
      "gs://kds-6f96f0bc6a675e5d7d316d604702c92b164fc68a7fe681084b7a873d\n",
      "10 10 51033 27956\n"
     ]
    },
    {
     "name": "stderr",
     "output_type": "stream",
     "text": [
      "2022-02-26 22:13:10.487325: I tensorflow/core/platform/cloud/google_auth_provider.cc:180] Attempting an empty bearer token since no token was retrieved from files, and GCE metadata check was skipped.\n",
      "2022-02-26 22:13:10.571454: I tensorflow/core/platform/cloud/google_auth_provider.cc:180] Attempting an empty bearer token since no token was retrieved from files, and GCE metadata check was skipped.\n"
     ]
    }
   ],
   "source": [
    "GCS_PATH = 'gs://kds-d916c3252bf3bc5b3500b904f05f51ce57c8df85221d11b7711bcda9'  # Get GCS Path from kaggle notebook if GCS Path is expired\n",
    "if not IS_COLAB:\n",
    "    GCS_PATH = KaggleDatasets().get_gcs_path('happywhale-tfrecords-v1')\n",
    "    \n",
    "train_files = np.sort(np.array(tf.io.gfile.glob(GCS_PATH + '/happywhale-2022-train*.tfrec')))\n",
    "test_files = np.sort(np.array(tf.io.gfile.glob(GCS_PATH + '/happywhale-2022-test*.tfrec')))\n",
    "print(GCS_PATH)\n",
    "print(len(train_files),len(test_files),count_data_items(train_files),count_data_items(test_files))"
   ]
  },
  {
   "cell_type": "markdown",
   "id": "fd723d14",
   "metadata": {
    "papermill": {
     "duration": 0.033693,
     "end_time": "2022-02-26T22:13:10.715988",
     "exception": false,
     "start_time": "2022-02-26T22:13:10.682295",
     "status": "completed"
    },
    "tags": []
   },
   "source": [
    "## Data"
   ]
  },
  {
   "cell_type": "code",
   "execution_count": 10,
   "id": "aec4c42f",
   "metadata": {
    "execution": {
     "iopub.execute_input": "2022-02-26T22:13:10.787917Z",
     "iopub.status.busy": "2022-02-26T22:13:10.787139Z",
     "iopub.status.idle": "2022-02-26T22:13:10.816515Z",
     "shell.execute_reply": "2022-02-26T22:13:10.817103Z",
     "shell.execute_reply.started": "2022-02-20T16:42:37.003264Z"
    },
    "papermill": {
     "duration": 0.068258,
     "end_time": "2022-02-26T22:13:10.817319",
     "exception": false,
     "start_time": "2022-02-26T22:13:10.749061",
     "status": "completed"
    },
    "tags": []
   },
   "outputs": [],
   "source": [
    "def arcface_format(posting_id, image, label_group, matches):\n",
    "    return posting_id, {'inp1': image, 'inp2': label_group}, label_group, matches\n",
    "\n",
    "def arcface_inference_format(posting_id, image, label_group, matches):\n",
    "    return image,posting_id\n",
    "\n",
    "def arcface_eval_format(posting_id, image, label_group, matches):\n",
    "    return image,label_group\n",
    "\n",
    "# Data augmentation function\n",
    "def data_augment(posting_id, image, label_group, matches):\n",
    "\n",
    "    ### CUTOUT\n",
    "    if tf.random.uniform([])>0.5 and config.CUTOUT:\n",
    "      N_CUTOUT = 6\n",
    "      for cutouts in range(N_CUTOUT):\n",
    "        if tf.random.uniform([])>0.5:\n",
    "           DIM = config.IMAGE_SIZE\n",
    "           CUTOUT_LENGTH = DIM//8\n",
    "           x1 = tf.cast( tf.random.uniform([],0,DIM-CUTOUT_LENGTH),tf.int32)\n",
    "           x2 = tf.cast( tf.random.uniform([],0,DIM-CUTOUT_LENGTH),tf.int32)\n",
    "           filter_ = tf.concat([tf.zeros((x1,CUTOUT_LENGTH)),tf.ones((CUTOUT_LENGTH,CUTOUT_LENGTH)),tf.zeros((DIM-x1-CUTOUT_LENGTH,CUTOUT_LENGTH))],axis=0)\n",
    "           filter_ = tf.concat([tf.zeros((DIM,x2)),filter_,tf.zeros((DIM,DIM-x2-CUTOUT_LENGTH))],axis=1)\n",
    "           cutout = tf.reshape(1-filter_,(DIM,DIM,1))\n",
    "           image = cutout*image\n",
    "\n",
    "    image = tf.image.random_flip_left_right(image)\n",
    "    #image = tf.image.random_flip_up_down(image)\n",
    "    image = tf.image.random_hue(image, 0.01)\n",
    "    image = tf.image.random_saturation(image,0.70, 1.30)\n",
    "    image = tf.image.random_contrast(image, 0.80, 1.20)\n",
    "    #image = tf.image.random_brightness(image, 0.10)\n",
    "    return posting_id, image, label_group, matches\n",
    "\n",
    "# Function to decode our images\n",
    "def decode_image(image_data):\n",
    "    image = tf.image.decode_jpeg(image_data, channels = 3)\n",
    "    image = tf.image.resize(image, [config.IMAGE_SIZE,config.IMAGE_SIZE])\n",
    "    image = tf.cast(image, tf.float32) / 255.0\n",
    "    return image\n",
    "\n",
    "# This function parse our images and also get the target variable\n",
    "def read_labeled_tfrecord(example):\n",
    "    LABELED_TFREC_FORMAT = {\n",
    "        \"image_name\": tf.io.FixedLenFeature([], tf.string),\n",
    "        \"image\": tf.io.FixedLenFeature([], tf.string),\n",
    "        \"target\": tf.io.FixedLenFeature([], tf.int64),\n",
    "#         \"matches\": tf.io.FixedLenFeature([], tf.string)\n",
    "    }\n",
    "\n",
    "    example = tf.io.parse_single_example(example, LABELED_TFREC_FORMAT)\n",
    "    posting_id = example['image_name']\n",
    "    image = decode_image(example['image'])\n",
    "#     label_group = tf.one_hot(tf.cast(example['label_group'], tf.int32), depth = N_CLASSES)\n",
    "    label_group = tf.cast(example['target'], tf.int32)\n",
    "#     matches = example['matches']\n",
    "    matches = 1\n",
    "    return posting_id, image, label_group, matches\n",
    "\n",
    "# This function loads TF Records and parse them into tensors\n",
    "def load_dataset(filenames, ordered = False):\n",
    "    \n",
    "    ignore_order = tf.data.Options()\n",
    "    if not ordered:\n",
    "        ignore_order.experimental_deterministic = False \n",
    "        \n",
    "    dataset = tf.data.TFRecordDataset(filenames, num_parallel_reads = AUTO)\n",
    "#     dataset = dataset.cache()\n",
    "    dataset = dataset.with_options(ignore_order)\n",
    "    dataset = dataset.map(read_labeled_tfrecord, num_parallel_calls = AUTO) \n",
    "    return dataset\n",
    "\n",
    "# This function is to get our training tensors\n",
    "def get_training_dataset(filenames):\n",
    "    dataset = load_dataset(filenames, ordered = False)\n",
    "    dataset = dataset.map(data_augment, num_parallel_calls = AUTO)\n",
    "    dataset = dataset.map(arcface_format, num_parallel_calls = AUTO)\n",
    "    dataset = dataset.map(lambda posting_id, image, label_group, matches: (image, label_group))\n",
    "    dataset = dataset.repeat()\n",
    "    dataset = dataset.shuffle(2048)\n",
    "    dataset = dataset.batch(config.BATCH_SIZE)\n",
    "    dataset = dataset.prefetch(AUTO)\n",
    "    return dataset\n",
    "\n",
    "# This function is to get our training tensors\n",
    "def get_val_dataset(filenames):\n",
    "    dataset = load_dataset(filenames, ordered = True)\n",
    "    dataset = dataset.map(data_augment, num_parallel_calls = AUTO)\n",
    "    dataset = dataset.map(arcface_format, num_parallel_calls = AUTO)\n",
    "    dataset = dataset.map(lambda posting_id, image, label_group, matches: (image, label_group))\n",
    "    dataset = dataset.batch(config.BATCH_SIZE)\n",
    "    dataset = dataset.prefetch(AUTO)\n",
    "    return dataset\n",
    "\n",
    "# This function is to get our training tensors\n",
    "def get_eval_dataset(filenames, get_targets = True):\n",
    "    dataset = load_dataset(filenames, ordered = True)\n",
    "    dataset = dataset.map(data_augment, num_parallel_calls = AUTO)\n",
    "    dataset = dataset.map(arcface_eval_format, num_parallel_calls = AUTO)\n",
    "    if not get_targets:\n",
    "        dataset = dataset.map(lambda image, target: image)\n",
    "    dataset = dataset.batch(config.BATCH_SIZE)\n",
    "    dataset = dataset.prefetch(AUTO)\n",
    "    return dataset\n",
    "\n",
    "# This function is to get our training tensors\n",
    "def get_test_dataset(filenames, get_names = True):\n",
    "    dataset = load_dataset(filenames, ordered = True)\n",
    "    dataset = dataset.map(data_augment, num_parallel_calls = AUTO)\n",
    "    dataset = dataset.map(arcface_inference_format, num_parallel_calls = AUTO)\n",
    "    if not get_names:\n",
    "        dataset = dataset.map(lambda image, posting_id: image)\n",
    "    dataset = dataset.batch(config.BATCH_SIZE)\n",
    "    dataset = dataset.prefetch(AUTO)\n",
    "    return dataset"
   ]
  },
  {
   "cell_type": "markdown",
   "id": "3a13b4fb",
   "metadata": {
    "papermill": {
     "duration": 0.034431,
     "end_time": "2022-02-26T22:13:10.886371",
     "exception": false,
     "start_time": "2022-02-26T22:13:10.851940",
     "status": "completed"
    },
    "tags": []
   },
   "source": [
    "## Model"
   ]
  },
  {
   "cell_type": "code",
   "execution_count": 11,
   "id": "9986e94c",
   "metadata": {
    "execution": {
     "iopub.execute_input": "2022-02-26T22:13:10.966774Z",
     "iopub.status.busy": "2022-02-26T22:13:10.961353Z",
     "iopub.status.idle": "2022-02-26T22:13:10.973584Z",
     "shell.execute_reply": "2022-02-26T22:13:10.972963Z",
     "shell.execute_reply.started": "2022-02-20T16:42:37.038266Z"
    },
    "papermill": {
     "duration": 0.054835,
     "end_time": "2022-02-26T22:13:10.973730",
     "exception": false,
     "start_time": "2022-02-26T22:13:10.918895",
     "status": "completed"
    },
    "tags": []
   },
   "outputs": [],
   "source": [
    "# Arcmarginproduct class keras layer\n",
    "class ArcMarginProduct(tf.keras.layers.Layer):\n",
    "    '''\n",
    "    Implements large margin arc distance.\n",
    "\n",
    "    Reference:\n",
    "        https://arxiv.org/pdf/1801.07698.pdf\n",
    "        https://github.com/lyakaap/Landmark2019-1st-and-3rd-Place-Solution/\n",
    "            blob/master/src/modeling/metric_learning.py\n",
    "    '''\n",
    "    def __init__(self, n_classes, s=30, m=0.50, easy_margin=False,\n",
    "                 ls_eps=0.0, **kwargs):\n",
    "\n",
    "        super(ArcMarginProduct, self).__init__(**kwargs)\n",
    "\n",
    "        self.n_classes = n_classes\n",
    "        self.s = s\n",
    "        self.m = m\n",
    "        self.ls_eps = ls_eps\n",
    "        self.easy_margin = easy_margin\n",
    "        self.cos_m = tf.math.cos(m)\n",
    "        self.sin_m = tf.math.sin(m)\n",
    "        self.th = tf.math.cos(math.pi - m)\n",
    "        self.mm = tf.math.sin(math.pi - m) * m\n",
    "\n",
    "    def get_config(self):\n",
    "\n",
    "        config = super().get_config().copy()\n",
    "        config.update({\n",
    "            'n_classes': self.n_classes,\n",
    "            's': self.s,\n",
    "            'm': self.m,\n",
    "            'ls_eps': self.ls_eps,\n",
    "            'easy_margin': self.easy_margin,\n",
    "        })\n",
    "        return config\n",
    "\n",
    "    def build(self, input_shape):\n",
    "        super(ArcMarginProduct, self).build(input_shape[0])\n",
    "\n",
    "        self.W = self.add_weight(\n",
    "            name='W',\n",
    "            shape=(int(input_shape[0][-1]), self.n_classes),\n",
    "            initializer='glorot_uniform',\n",
    "            dtype='float32',\n",
    "            trainable=True,\n",
    "            regularizer=None)\n",
    "\n",
    "    def call(self, inputs):\n",
    "        X, y = inputs\n",
    "        y = tf.cast(y, dtype=tf.int32)\n",
    "        cosine = tf.matmul(\n",
    "            tf.math.l2_normalize(X, axis=1),\n",
    "            tf.math.l2_normalize(self.W, axis=0)\n",
    "        )\n",
    "        sine = tf.math.sqrt(1.0 - tf.math.pow(cosine, 2))\n",
    "        phi = cosine * self.cos_m - sine * self.sin_m\n",
    "        if self.easy_margin:\n",
    "            phi = tf.where(cosine > 0, phi, cosine)\n",
    "        else:\n",
    "            phi = tf.where(cosine > self.th, phi, cosine - self.mm)\n",
    "        one_hot = tf.cast(\n",
    "            tf.one_hot(y, depth=self.n_classes),\n",
    "            dtype=cosine.dtype\n",
    "        )\n",
    "        if self.ls_eps > 0:\n",
    "            one_hot = (1 - self.ls_eps) * one_hot + self.ls_eps / self.n_classes\n",
    "\n",
    "        output = (one_hot * phi) + ((1.0 - one_hot) * cosine)\n",
    "        output *= self.s\n",
    "        return output"
   ]
  },
  {
   "cell_type": "code",
   "execution_count": 12,
   "id": "36fe8c71",
   "metadata": {
    "execution": {
     "iopub.execute_input": "2022-02-26T22:13:11.053869Z",
     "iopub.status.busy": "2022-02-26T22:13:11.042444Z",
     "iopub.status.idle": "2022-02-26T22:13:11.059790Z",
     "shell.execute_reply": "2022-02-26T22:13:11.059121Z",
     "shell.execute_reply.started": "2022-02-20T16:42:37.060067Z"
    },
    "papermill": {
     "duration": 0.053254,
     "end_time": "2022-02-26T22:13:11.059940",
     "exception": false,
     "start_time": "2022-02-26T22:13:11.006686",
     "status": "completed"
    },
    "tags": []
   },
   "outputs": [],
   "source": [
    "EFNS = [efn.EfficientNetB0, efn.EfficientNetB1, efn.EfficientNetB2, efn.EfficientNetB3, \n",
    "        efn.EfficientNetB4, efn.EfficientNetB5, efn.EfficientNetB6, efn.EfficientNetB7]\n",
    "\n",
    "def freeze_BN(model):\n",
    "    # Unfreeze layers while leaving BatchNorm layers frozen\n",
    "    for layer in model.layers:\n",
    "        if not isinstance(layer, tf.keras.layers.BatchNormalization):\n",
    "            layer.trainable = True\n",
    "        else:\n",
    "            layer.trainable = False\n",
    "\n",
    "# Function to create our EfficientNetB3 model\n",
    "def get_model():\n",
    "\n",
    "    if config.head=='arcface':\n",
    "        head = ArcMarginProduct\n",
    "    else:\n",
    "        assert 1==2, \"INVALID HEAD\"\n",
    "    \n",
    "    with strategy.scope():\n",
    "        \n",
    "        margin = head(\n",
    "            n_classes = config.N_CLASSES, \n",
    "            s = 30, \n",
    "            m = 0.3, \n",
    "            name=f'head/{config.head}', \n",
    "            dtype='float32'\n",
    "            )\n",
    "\n",
    "        inp = tf.keras.layers.Input(shape = [config.IMAGE_SIZE, config.IMAGE_SIZE, 3], name = 'inp1')\n",
    "        label = tf.keras.layers.Input(shape = (), name = 'inp2')\n",
    "        \n",
    "        if config.model_type == 'effnetv1':\n",
    "            x = EFNS[config.EFF_NET](weights = 'noisy-student', include_top = False)(inp)\n",
    "            embed = tf.keras.layers.GlobalAveragePooling2D()(x)\n",
    "        elif config.model_type == 'effnetv2':\n",
    "            FEATURE_VECTOR = f'{EFFNETV2_ROOT}/tfhub_models/efficientnetv2-{config.EFF_NETV2}/feature_vector'\n",
    "            embed = tfhub.KerasLayer(FEATURE_VECTOR, trainable=True)(inp)\n",
    "            \n",
    "        embed = tf.keras.layers.Dropout(0.2)(embed)\n",
    "        embed = tf.keras.layers.Dense(512)(embed)\n",
    "        x = margin([embed, label])\n",
    "        \n",
    "        output = tf.keras.layers.Softmax(dtype='float32')(x)\n",
    "        \n",
    "        model = tf.keras.models.Model(inputs = [inp, label], outputs = [output])\n",
    "        embed_model = tf.keras.models.Model(inputs = inp, outputs = embed)  \n",
    "        \n",
    "        opt = tf.keras.optimizers.Adam(learning_rate = config.LR)\n",
    "        if config.FREEZE_BATCH_NORM:\n",
    "            freeze_BN(model)\n",
    "\n",
    "        model.compile(\n",
    "            optimizer = opt,\n",
    "            loss = [tf.keras.losses.SparseCategoricalCrossentropy()],\n",
    "            metrics = [tf.keras.metrics.SparseCategoricalAccuracy(),tf.keras.metrics.SparseTopKCategoricalAccuracy(k=5)]\n",
    "            ) \n",
    "        \n",
    "        return model,embed_model"
   ]
  },
  {
   "cell_type": "code",
   "execution_count": 13,
   "id": "b0ee5ab7",
   "metadata": {
    "execution": {
     "iopub.execute_input": "2022-02-26T22:13:11.150827Z",
     "iopub.status.busy": "2022-02-26T22:13:11.149980Z",
     "iopub.status.idle": "2022-02-26T22:13:11.362719Z",
     "shell.execute_reply": "2022-02-26T22:13:11.363263Z",
     "shell.execute_reply.started": "2022-02-20T16:42:37.080506Z"
    },
    "papermill": {
     "duration": 0.270801,
     "end_time": "2022-02-26T22:13:11.363458",
     "exception": false,
     "start_time": "2022-02-26T22:13:11.092657",
     "status": "completed"
    },
    "tags": []
   },
   "outputs": [
    {
     "data": {
      "image/png": "[encoded data removed]",
      "text/plain": [
       "<Figure size 432x288 with 1 Axes>"
      ]
     },
     "metadata": {
      "needs_background": "light"
     },
     "output_type": "display_data"
    },
    {
     "data": {
      "text/plain": [
       "<tensorflow.python.keras.callbacks.LearningRateScheduler at 0x7f0ea7332c50>"
      ]
     },
     "execution_count": 13,
     "metadata": {},
     "output_type": "execute_result"
    }
   ],
   "source": [
    "def get_lr_callback(plot=False):\n",
    "    lr_start   = 0.000001\n",
    "    lr_max     = 0.000005 * config.BATCH_SIZE  \n",
    "    lr_min     = 0.000001\n",
    "    lr_ramp_ep = 4\n",
    "    lr_sus_ep  = 0\n",
    "    lr_decay   = 0.9\n",
    "   \n",
    "    def lrfn(epoch):\n",
    "        if config.RESUME:\n",
    "            epoch = epoch + config.RESUME_EPOCH\n",
    "        if epoch < lr_ramp_ep:\n",
    "            lr = (lr_max - lr_start) / lr_ramp_ep * epoch + lr_start\n",
    "            \n",
    "        elif epoch < lr_ramp_ep + lr_sus_ep:\n",
    "            lr = lr_max\n",
    "            \n",
    "        else:\n",
    "            lr = (lr_max - lr_min) * lr_decay**(epoch - lr_ramp_ep - lr_sus_ep) + lr_min\n",
    "            \n",
    "        return lr\n",
    "        \n",
    "    if plot:\n",
    "        epochs = list(range(config.EPOCHS))\n",
    "        learning_rates = [lrfn(x) for x in epochs]\n",
    "        plt.scatter(epochs,learning_rates)\n",
    "        plt.show()\n",
    "\n",
    "    lr_callback = tf.keras.callbacks.LearningRateScheduler(lrfn, verbose=False)\n",
    "    return lr_callback\n",
    "\n",
    "get_lr_callback(plot=True)"
   ]
  },
  {
   "cell_type": "code",
   "execution_count": 14,
   "id": "ee4cbffc",
   "metadata": {
    "execution": {
     "iopub.execute_input": "2022-02-26T22:13:11.441142Z",
     "iopub.status.busy": "2022-02-26T22:13:11.440442Z",
     "iopub.status.idle": "2022-02-26T22:13:11.442163Z",
     "shell.execute_reply": "2022-02-26T22:13:11.442616Z",
     "shell.execute_reply.started": "2022-02-20T16:43:26.726934Z"
    },
    "papermill": {
     "duration": 0.045321,
     "end_time": "2022-02-26T22:13:11.442817",
     "exception": false,
     "start_time": "2022-02-26T22:13:11.397496",
     "status": "completed"
    },
    "tags": []
   },
   "outputs": [],
   "source": [
    "class Snapshot(tf.keras.callbacks.Callback):\n",
    "    \n",
    "    def __init__(self,fold,snapshot_epochs=[]):\n",
    "        super(Snapshot, self).__init__()\n",
    "        self.snapshot_epochs = snapshot_epochs\n",
    "        self.fold = fold\n",
    "        \n",
    "        \n",
    "    def on_epoch_end(self, epoch, logs=None):\n",
    "        # logs is a dictionary\n",
    "#         print(f\"epoch: {epoch}, train_acc: {logs['acc']}, valid_acc: {logs['val_acc']}\")\n",
    "        if epoch in self.snapshot_epochs: # your custom condition         \n",
    "            self.model.save_weights(config.save_dir+f\"/EF{config.MODEL_NAME}_epoch{epoch}.h5\")\n",
    "        self.model.save_weights(config.save_dir+f\"/{config.MODEL_NAME}_last.h5\")"
   ]
  },
  {
   "cell_type": "markdown",
   "id": "c20dd5b3",
   "metadata": {
    "papermill": {
     "duration": 0.041738,
     "end_time": "2022-02-26T22:13:11.527205",
     "exception": false,
     "start_time": "2022-02-26T22:13:11.485467",
     "status": "completed"
    },
    "tags": []
   },
   "source": [
    "## Train"
   ]
  },
  {
   "cell_type": "code",
   "execution_count": 15,
   "id": "41401e90",
   "metadata": {
    "execution": {
     "iopub.execute_input": "2022-02-26T22:13:11.615563Z",
     "iopub.status.busy": "2022-02-26T22:13:11.614825Z",
     "iopub.status.idle": "2022-02-26T22:13:11.618341Z",
     "shell.execute_reply": "2022-02-26T22:13:11.619176Z",
     "shell.execute_reply.started": "2022-02-20T16:43:27.905902Z"
    },
    "papermill": {
     "duration": 0.04855,
     "end_time": "2022-02-26T22:13:11.619426",
     "exception": false,
     "start_time": "2022-02-26T22:13:11.570876",
     "status": "completed"
    },
    "tags": []
   },
   "outputs": [
    {
     "name": "stdout",
     "output_type": "stream",
     "text": [
      "8 2 40826 10207\n"
     ]
    }
   ],
   "source": [
    "TRAINING_FILENAMES = [x for i,x in enumerate(train_files) if i%config.FOLDS!=config.FOLD_TO_RUN]\n",
    "VALIDATION_FILENAMES = [x for i,x in enumerate(train_files) if i%config.FOLDS==config.FOLD_TO_RUN]\n",
    "print(len(TRAINING_FILENAMES),len(VALIDATION_FILENAMES),count_data_items(TRAINING_FILENAMES),count_data_items(VALIDATION_FILENAMES))"
   ]
  },
  {
   "cell_type": "code",
   "execution_count": 16,
   "id": "5216da52",
   "metadata": {
    "execution": {
     "iopub.execute_input": "2022-02-26T22:13:11.697958Z",
     "iopub.status.busy": "2022-02-26T22:13:11.697229Z",
     "iopub.status.idle": "2022-02-26T22:13:11.702028Z",
     "shell.execute_reply": "2022-02-26T22:13:11.702618Z",
     "shell.execute_reply.started": "2022-02-20T16:43:28.524236Z"
    },
    "papermill": {
     "duration": 0.045039,
     "end_time": "2022-02-26T22:13:11.702819",
     "exception": false,
     "start_time": "2022-02-26T22:13:11.657780",
     "status": "completed"
    },
    "tags": []
   },
   "outputs": [],
   "source": [
    "if config.DEBUG:\n",
    "    TRAINING_FILENAMES = [TRAINING_FILENAMES[0]]\n",
    "    VALIDATION_FILENAMES = [VALIDATION_FILENAMES[0]]\n",
    "    print(len(TRAINING_FILENAMES),len(VALIDATION_FILENAMES),count_data_items(TRAINING_FILENAMES),count_data_items(VALIDATION_FILENAMES))\n",
    "    test_files = [test_files[0]]"
   ]
  },
  {
   "cell_type": "code",
   "execution_count": 17,
   "id": "2cf7da5e",
   "metadata": {
    "execution": {
     "iopub.execute_input": "2022-02-26T22:13:11.779260Z",
     "iopub.status.busy": "2022-02-26T22:13:11.778544Z",
     "iopub.status.idle": "2022-02-26T22:14:01.271742Z",
     "shell.execute_reply": "2022-02-26T22:14:01.270788Z",
     "shell.execute_reply.started": "2022-02-20T16:43:29.378278Z"
    },
    "papermill": {
     "duration": 49.53304,
     "end_time": "2022-02-26T22:14:01.271991",
     "exception": false,
     "start_time": "2022-02-26T22:13:11.738951",
     "status": "completed"
    },
    "tags": []
   },
   "outputs": [
    {
     "name": "stdout",
     "output_type": "stream",
     "text": [
      "Downloading data from https://github.com/qubvel/efficientnet/releases/download/v0.0.1/efficientnet-b6_noisy-student_notop.h5\n",
      "165232640/165226952 [==============================] - 3s 0us/step\n",
      "Model: \"model\"\n",
      "__________________________________________________________________________________________________\n",
      "Layer (type)                    Output Shape         Param #     Connected to                     \n",
      "==================================================================================================\n",
      "inp1 (InputLayer)               [(None, 780, 780, 3) 0                                            \n",
      "__________________________________________________________________________________________________\n",
      "efficientnet-b6 (Functional)    (None, None, None, 2 40960136    inp1[0][0]                       \n",
      "__________________________________________________________________________________________________\n",
      "global_average_pooling2d (Globa (None, 2304)         0           efficientnet-b6[0][0]            \n",
      "__________________________________________________________________________________________________\n",
      "dropout (Dropout)               (None, 2304)         0           global_average_pooling2d[0][0]   \n",
      "__________________________________________________________________________________________________\n",
      "dense (Dense)                   (None, 512)          1180160     dropout[0][0]                    \n",
      "__________________________________________________________________________________________________\n",
      "inp2 (InputLayer)               [(None,)]            0                                            \n",
      "__________________________________________________________________________________________________\n",
      "head/arcface (ArcMarginProduct) (None, 15587)        7980544     dense[0][0]                      \n",
      "                                                                 inp2[0][0]                       \n",
      "__________________________________________________________________________________________________\n",
      "softmax (Softmax)               (None, 15587)        0           head/arcface[0][0]               \n",
      "==================================================================================================\n",
      "Total params: 50,120,840\n",
      "Trainable params: 49,896,408\n",
      "Non-trainable params: 224,432\n",
      "__________________________________________________________________________________________________\n"
     ]
    }
   ],
   "source": [
    "seed_everything(config.SEED)\n",
    "VERBOSE = 1\n",
    "train_dataset = get_training_dataset(TRAINING_FILENAMES)\n",
    "val_dataset = get_val_dataset(VALIDATION_FILENAMES)\n",
    "STEPS_PER_EPOCH = count_data_items(TRAINING_FILENAMES) // config.BATCH_SIZE\n",
    "train_logger = tf.keras.callbacks.CSVLogger(config.save_dir+'/training-log-fold-%i.h5.csv'%config.FOLD_TO_RUN)\n",
    "# SAVE BEST MODEL EACH FOLD        \n",
    "sv_loss = tf.keras.callbacks.ModelCheckpoint(\n",
    "    config.save_dir+f\"/{config.MODEL_NAME}_loss_{config.FOLD_TO_RUN}.h5\", monitor='val_loss', verbose=0, save_best_only=True,\n",
    "    save_weights_only=True, mode='min', save_freq='epoch')\n",
    "# BUILD MODEL\n",
    "K.clear_session()\n",
    "model,embed_model = get_model()\n",
    "snap = Snapshot(fold=config.FOLD_TO_RUN,snapshot_epochs=[5,8])\n",
    "model.summary()\n",
    "\n",
    "if config.RESUME:   \n",
    "    model.load_weights(config.resume_model_wts)"
   ]
  },
  {
   "cell_type": "code",
   "execution_count": 18,
   "id": "26832ce9",
   "metadata": {
    "execution": {
     "iopub.execute_input": "2022-02-26T22:14:01.376712Z",
     "iopub.status.busy": "2022-02-26T22:14:01.376002Z",
     "iopub.status.idle": "2022-02-26T22:18:38.319049Z",
     "shell.execute_reply": "2022-02-26T22:18:38.319592Z",
     "shell.execute_reply.started": "2022-02-20T16:44:16.584229Z"
    },
    "papermill": {
     "duration": 276.999159,
     "end_time": "2022-02-26T22:18:38.319800",
     "exception": false,
     "start_time": "2022-02-26T22:14:01.320641",
     "status": "completed"
    },
    "tags": []
   },
   "outputs": [
    {
     "name": "stdout",
     "output_type": "stream",
     "text": [
      "#### Image Size 780 with EfficientNet B6 and batch_size 256\n"
     ]
    },
    {
     "data": {
      "text/plain": [
       "5"
      ]
     },
     "execution_count": 18,
     "metadata": {},
     "output_type": "execute_result"
    }
   ],
   "source": [
    "print('#### Image Size %i with EfficientNet B%i and batch_size %i'%\n",
    "      (config.IMAGE_SIZE,config.EFF_NET,config.BATCH_SIZE))\n",
    "\n",
    "embed_models=[]\n",
    "for i in range(5):\n",
    "    model,embed_model = get_model()\n",
    "    embed_models.append((model.load_weights(f\"../input/eff-b6-5fold/effnetv1_b6_loss_{i}.h5\"),embed_model))\n",
    "len(embed_models)"
   ]
  },
  {
   "cell_type": "markdown",
   "id": "ad1d2e59",
   "metadata": {
    "papermill": {
     "duration": 0.049518,
     "end_time": "2022-02-26T22:18:38.419782",
     "exception": false,
     "start_time": "2022-02-26T22:18:38.370264",
     "status": "completed"
    },
    "tags": []
   },
   "source": [
    "## Evaluation"
   ]
  },
  {
   "cell_type": "code",
   "execution_count": 19,
   "id": "3b19c696",
   "metadata": {
    "execution": {
     "iopub.execute_input": "2022-02-26T22:18:38.533159Z",
     "iopub.status.busy": "2022-02-26T22:18:38.531493Z",
     "iopub.status.idle": "2022-02-26T22:18:38.583168Z",
     "shell.execute_reply": "2022-02-26T22:18:38.581887Z",
     "shell.execute_reply.started": "2022-02-20T16:50:46.512466Z"
    },
    "papermill": {
     "duration": 0.113501,
     "end_time": "2022-02-26T22:18:38.583334",
     "exception": false,
     "start_time": "2022-02-26T22:18:38.469833",
     "status": "completed"
    },
    "tags": []
   },
   "outputs": [],
   "source": [
    "def get_ids(filename):\n",
    "    ds = get_test_dataset([filename],get_names=True).map(lambda image, image_name: image_name).unbatch()\n",
    "    NUM_IMAGES = count_data_items([filename])\n",
    "    ids = next(iter(ds.batch(NUM_IMAGES))).numpy().astype('U')\n",
    "    return ids\n",
    "\n",
    "def get_targets(filename):\n",
    "    ds = get_eval_dataset([filename],get_targets=True).map(lambda image, target: target).unbatch()\n",
    "    NUM_IMAGES = count_data_items([filename])\n",
    "    ids = next(iter(ds.batch(NUM_IMAGES))).numpy()\n",
    "    return ids\n",
    "\n",
    "def get_embeddings(filename):\n",
    "    ds = get_test_dataset([filename],get_names=False)\n",
    "    embeddings = np.mean(np.stack([embed_models[x][1].predict(ds,verbose=0) for x in range(len(embed_models))]), axis=0)\n",
    "    #print (embeddings.shape)\n",
    "    return embeddings\n",
    "\n",
    "def get_predictions(test_df,threshold=0.2):\n",
    "    predictions = {}\n",
    "    for i,row in tqdm(test_df.iterrows()):\n",
    "        if row.image in predictions:\n",
    "            if len(predictions[row.image])==5:\n",
    "                continue\n",
    "            predictions[row.image].append(row.target)\n",
    "        elif row.confidence>threshold:\n",
    "            predictions[row.image] = [row.target,'new_individual']\n",
    "        else:\n",
    "            predictions[row.image] = ['new_individual',row.target]\n",
    "\n",
    "    for x in tqdm(predictions):\n",
    "        if len(predictions[x])<5:\n",
    "            remaining = [y for y in sample_list if y not in predictions]\n",
    "            predictions[x] = predictions[x]+remaining\n",
    "            predictions[x] = predictions[x][:5]\n",
    "        \n",
    "    return predictions\n",
    "\n",
    "def map_per_image(label, predictions):\n",
    "    \"\"\"Computes the precision score of one image.\n",
    "\n",
    "    Parameters\n",
    "    ----------\n",
    "    label : string\n",
    "            The true label of the image\n",
    "    predictions : list\n",
    "            A list of predicted elements (order does matter, 5 predictions allowed per image)\n",
    "\n",
    "    Returns\n",
    "    -------\n",
    "    score : double\n",
    "    \"\"\"    \n",
    "    try:\n",
    "        return 1 / (predictions[:5].index(label) + 1)\n",
    "    except ValueError:\n",
    "        return 0.0\n",
    "    \n",
    "f = open ('../input/happywhale-splits/individual_ids.json', \"r\")\n",
    "target_encodings = json.loads(f.read())\n",
    "target_encodings = {target_encodings[x]:x for x in target_encodings}\n",
    "sample_list = ['938b7e931166', '5bf17305f073', '7593d2aee842', '7362d7a01d00','956562ff2888']"
   ]
  },
  {
   "cell_type": "code",
   "execution_count": 20,
   "id": "cc906f96",
   "metadata": {
    "execution": {
     "iopub.execute_input": "2022-02-26T22:18:38.700681Z",
     "iopub.status.busy": "2022-02-26T22:18:38.699666Z",
     "iopub.status.idle": "2022-02-26T22:40:05.801286Z",
     "shell.execute_reply": "2022-02-26T22:40:05.800554Z",
     "shell.execute_reply.started": "2022-02-20T16:50:52.930745Z"
    },
    "papermill": {
     "duration": 1287.163132,
     "end_time": "2022-02-26T22:40:05.801594",
     "exception": false,
     "start_time": "2022-02-26T22:18:38.638462",
     "status": "completed"
    },
    "tags": []
   },
   "outputs": [
    {
     "data": {
      "application/vnd.jupyter.widget-view+json": {
       "model_id": "fd5505ffa14c46638e1225a5d233df71",
       "version_major": 2,
       "version_minor": 0
      },
      "text/plain": [
       "  0%|          | 0/8 [00:00<?, ?it/s]"
      ]
     },
     "metadata": {},
     "output_type": "display_data"
    },
    {
     "name": "stderr",
     "output_type": "stream",
     "text": [
      "2022-02-26 22:19:53.031827: W ./tensorflow/core/distributed_runtime/eager/destroy_tensor_handle_node.h:57] Ignoring an error encountered when deleting remote tensors handles: Invalid argument: Unable to find the relevant tensor remote_handle: Op ID: 436325, Output num: 0\n",
      "Additional GRPC error information from remote target /job:worker/replica:0/task:0:\n",
      ":{\"created\":\"@1645913993.027890200\",\"description\":\"Error received from peer ipv4:10.0.0.2:8470\",\"file\":\"external/com_github_grpc_grpc/src/core/lib/surface/call.cc\",\"file_line\":1056,\"grpc_message\":\"Unable to find the relevant tensor remote_handle: Op ID: 436325, Output num: 0\",\"grpc_status\":3}\n",
      "2022-02-26 22:20:53.674401: W ./tensorflow/core/distributed_runtime/eager/destroy_tensor_handle_node.h:57] Ignoring an error encountered when deleting remote tensors handles: Invalid argument: Unable to find the relevant tensor remote_handle: Op ID: 438650, Output num: 0\n",
      "Additional GRPC error information from remote target /job:worker/replica:0/task:0:\n",
      ":{\"created\":\"@1645914053.674078259\",\"description\":\"Error received from peer ipv4:10.0.0.2:8470\",\"file\":\"external/com_github_grpc_grpc/src/core/lib/surface/call.cc\",\"file_line\":1056,\"grpc_message\":\"Unable to find the relevant tensor remote_handle: Op ID: 438650, Output num: 0\",\"grpc_status\":3}\n",
      "2022-02-26 22:21:55.347249: W ./tensorflow/core/distributed_runtime/eager/destroy_tensor_handle_node.h:57] Ignoring an error encountered when deleting remote tensors handles: Invalid argument: Unable to find the relevant tensor remote_handle: Op ID: 440974, Output num: 0\n",
      "Additional GRPC error information from remote target /job:worker/replica:0/task:0:\n",
      ":{\"created\":\"@1645914115.345629388\",\"description\":\"Error received from peer ipv4:10.0.0.2:8470\",\"file\":\"external/com_github_grpc_grpc/src/core/lib/surface/call.cc\",\"file_line\":1056,\"grpc_message\":\"Unable to find the relevant tensor remote_handle: Op ID: 440974, Output num: 0\",\"grpc_status\":3}\n",
      "2022-02-26 22:23:23.287911: W ./tensorflow/core/distributed_runtime/eager/destroy_tensor_handle_node.h:57] Ignoring an error encountered when deleting remote tensors handles: Invalid argument: Unable to find the relevant tensor remote_handle: Op ID: 441322, Output num: 0\n",
      "Additional GRPC error information from remote target /job:worker/replica:0/task:0:\n",
      ":{\"created\":\"@1645914203.287826412\",\"description\":\"Error received from peer ipv4:10.0.0.2:8470\",\"file\":\"external/com_github_grpc_grpc/src/core/lib/surface/call.cc\",\"file_line\":1056,\"grpc_message\":\"Unable to find the relevant tensor remote_handle: Op ID: 441322, Output num: 0\",\"grpc_status\":3}\n",
      "2022-02-26 22:24:27.315449: W ./tensorflow/core/distributed_runtime/eager/destroy_tensor_handle_node.h:57] Ignoring an error encountered when deleting remote tensors handles: Invalid argument: Unable to find the relevant tensor remote_handle: Op ID: 442558, Output num: 0\n",
      "Additional GRPC error information from remote target /job:worker/replica:0/task:0:\n",
      ":{\"created\":\"@1645914267.315276962\",\"description\":\"Error received from peer ipv4:10.0.0.2:8470\",\"file\":\"external/com_github_grpc_grpc/src/core/lib/surface/call.cc\",\"file_line\":1056,\"grpc_message\":\"Unable to find the relevant tensor remote_handle: Op ID: 442558, Output num: 0\",\"grpc_status\":3}\n",
      "2022-02-26 22:25:48.054447: W ./tensorflow/core/distributed_runtime/eager/destroy_tensor_handle_node.h:57] Ignoring an error encountered when deleting remote tensors handles: Invalid argument: Unable to find the relevant tensor remote_handle: Op ID: 442906, Output num: 0\n",
      "Additional GRPC error information from remote target /job:worker/replica:0/task:0:\n",
      ":{\"created\":\"@1645914348.054370218\",\"description\":\"Error received from peer ipv4:10.0.0.2:8470\",\"file\":\"external/com_github_grpc_grpc/src/core/lib/surface/call.cc\",\"file_line\":1056,\"grpc_message\":\"Unable to find the relevant tensor remote_handle: Op ID: 442906, Output num: 0\",\"grpc_status\":3}\n",
      "2022-02-26 22:26:51.036395: W ./tensorflow/core/distributed_runtime/eager/destroy_tensor_handle_node.h:57] Ignoring an error encountered when deleting remote tensors handles: Invalid argument: Unable to find the relevant tensor remote_handle: Op ID: 444142, Output num: 0\n",
      "Additional GRPC error information from remote target /job:worker/replica:0/task:0:\n",
      ":{\"created\":\"@1645914411.036248196\",\"description\":\"Error received from peer ipv4:10.0.0.2:8470\",\"file\":\"external/com_github_grpc_grpc/src/core/lib/surface/call.cc\",\"file_line\":1056,\"grpc_message\":\"Unable to find the relevant tensor remote_handle: Op ID: 444142, Output num: 0\",\"grpc_status\":3}\n",
      "2022-02-26 22:28:12.879494: W ./tensorflow/core/distributed_runtime/eager/destroy_tensor_handle_node.h:57] Ignoring an error encountered when deleting remote tensors handles: Invalid argument: Unable to find the relevant tensor remote_handle: Op ID: 444490, Output num: 0\n",
      "Additional GRPC error information from remote target /job:worker/replica:0/task:0:\n",
      ":{\"created\":\"@1645914492.879375921\",\"description\":\"Error received from peer ipv4:10.0.0.2:8470\",\"file\":\"external/com_github_grpc_grpc/src/core/lib/surface/call.cc\",\"file_line\":1056,\"grpc_message\":\"Unable to find the relevant tensor remote_handle: Op ID: 444490, Output num: 0\",\"grpc_status\":3}\n",
      "2022-02-26 22:29:14.046717: W ./tensorflow/core/distributed_runtime/eager/destroy_tensor_handle_node.h:57] Ignoring an error encountered when deleting remote tensors handles: Invalid argument: Unable to find the relevant tensor remote_handle: Op ID: 445726, Output num: 0\n",
      "Additional GRPC error information from remote target /job:worker/replica:0/task:0:\n",
      ":{\"created\":\"@1645914554.046600932\",\"description\":\"Error received from peer ipv4:10.0.0.2:8470\",\"file\":\"external/com_github_grpc_grpc/src/core/lib/surface/call.cc\",\"file_line\":1056,\"grpc_message\":\"Unable to find the relevant tensor remote_handle: Op ID: 445726, Output num: 0\",\"grpc_status\":3}\n",
      "2022-02-26 22:31:05.116258: W ./tensorflow/core/distributed_runtime/eager/destroy_tensor_handle_node.h:57] Ignoring an error encountered when deleting remote tensors handles: Invalid argument: Unable to find the relevant tensor remote_handle: Op ID: 446074, Output num: 0\n",
      "Additional GRPC error information from remote target /job:worker/replica:0/task:0:\n",
      ":{\"created\":\"@1645914665.116082152\",\"description\":\"Error received from peer ipv4:10.0.0.2:8470\",\"file\":\"external/com_github_grpc_grpc/src/core/lib/surface/call.cc\",\"file_line\":1056,\"grpc_message\":\"Unable to find the relevant tensor remote_handle: Op ID: 446074, Output num: 0\",\"grpc_status\":3}\n",
      "2022-02-26 22:32:07.986985: W ./tensorflow/core/distributed_runtime/eager/destroy_tensor_handle_node.h:57] Ignoring an error encountered when deleting remote tensors handles: Invalid argument: Unable to find the relevant tensor remote_handle: Op ID: 447310, Output num: 0\n",
      "Additional GRPC error information from remote target /job:worker/replica:0/task:0:\n",
      ":{\"created\":\"@1645914727.985771248\",\"description\":\"Error received from peer ipv4:10.0.0.2:8470\",\"file\":\"external/com_github_grpc_grpc/src/core/lib/surface/call.cc\",\"file_line\":1056,\"grpc_message\":\"Unable to find the relevant tensor remote_handle: Op ID: 447310, Output num: 0\",\"grpc_status\":3}\n",
      "2022-02-26 22:33:37.978052: W ./tensorflow/core/distributed_runtime/eager/destroy_tensor_handle_node.h:57] Ignoring an error encountered when deleting remote tensors handles: Invalid argument: Unable to find the relevant tensor remote_handle: Op ID: 447658, Output num: 0\n",
      "Additional GRPC error information from remote target /job:worker/replica:0/task:0:\n",
      ":{\"created\":\"@1645914817.977736313\",\"description\":\"Error received from peer ipv4:10.0.0.2:8470\",\"file\":\"external/com_github_grpc_grpc/src/core/lib/surface/call.cc\",\"file_line\":1056,\"grpc_message\":\"Unable to find the relevant tensor remote_handle: Op ID: 447658, Output num: 0\",\"grpc_status\":3}\n",
      "2022-02-26 22:34:42.561406: W ./tensorflow/core/distributed_runtime/eager/destroy_tensor_handle_node.h:57] Ignoring an error encountered when deleting remote tensors handles: Invalid argument: Unable to find the relevant tensor remote_handle: Op ID: 448894, Output num: 0\n",
      "Additional GRPC error information from remote target /job:worker/replica:0/task:0:\n",
      ":{\"created\":\"@1645914882.560072889\",\"description\":\"Error received from peer ipv4:10.0.0.2:8470\",\"file\":\"external/com_github_grpc_grpc/src/core/lib/surface/call.cc\",\"file_line\":1056,\"grpc_message\":\"Unable to find the relevant tensor remote_handle: Op ID: 448894, Output num: 0\",\"grpc_status\":3}\n",
      "2022-02-26 22:36:15.305550: W ./tensorflow/core/distributed_runtime/eager/destroy_tensor_handle_node.h:57] Ignoring an error encountered when deleting remote tensors handles: Invalid argument: Unable to find the relevant tensor remote_handle: Op ID: 449242, Output num: 0\n",
      "Additional GRPC error information from remote target /job:worker/replica:0/task:0:\n",
      ":{\"created\":\"@1645914975.305156578\",\"description\":\"Error received from peer ipv4:10.0.0.2:8470\",\"file\":\"external/com_github_grpc_grpc/src/core/lib/surface/call.cc\",\"file_line\":1056,\"grpc_message\":\"Unable to find the relevant tensor remote_handle: Op ID: 449242, Output num: 0\",\"grpc_status\":3}\n",
      "2022-02-26 22:37:17.468189: W ./tensorflow/core/distributed_runtime/eager/destroy_tensor_handle_node.h:57] Ignoring an error encountered when deleting remote tensors handles: Invalid argument: Unable to find the relevant tensor remote_handle: Op ID: 450478, Output num: 0\n",
      "Additional GRPC error information from remote target /job:worker/replica:0/task:0:\n",
      ":{\"created\":\"@1645915037.468074290\",\"description\":\"Error received from peer ipv4:10.0.0.2:8470\",\"file\":\"external/com_github_grpc_grpc/src/core/lib/surface/call.cc\",\"file_line\":1056,\"grpc_message\":\"Unable to find the relevant tensor remote_handle: Op ID: 450478, Output num: 0\",\"grpc_status\":3}\n",
      "2022-02-26 22:38:44.159932: W ./tensorflow/core/distributed_runtime/eager/destroy_tensor_handle_node.h:57] Ignoring an error encountered when deleting remote tensors handles: Invalid argument: Unable to find the relevant tensor remote_handle: Op ID: 450826, Output num: 0\n",
      "Additional GRPC error information from remote target /job:worker/replica:0/task:0:\n",
      ":{\"created\":\"@1645915124.159703701\",\"description\":\"Error received from peer ipv4:10.0.0.2:8470\",\"file\":\"external/com_github_grpc_grpc/src/core/lib/surface/call.cc\",\"file_line\":1056,\"grpc_message\":\"Unable to find the relevant tensor remote_handle: Op ID: 450826, Output num: 0\",\"grpc_status\":3}\n",
      "2022-02-26 22:39:49.315112: W ./tensorflow/core/distributed_runtime/eager/destroy_tensor_handle_node.h:57] Ignoring an error encountered when deleting remote tensors handles: Invalid argument: Unable to find the relevant tensor remote_handle: Op ID: 452062, Output num: 0\n",
      "Additional GRPC error information from remote target /job:worker/replica:0/task:0:\n",
      ":{\"created\":\"@1645915189.315004957\",\"description\":\"Error received from peer ipv4:10.0.0.2:8470\",\"file\":\"external/com_github_grpc_grpc/src/core/lib/surface/call.cc\",\"file_line\":1056,\"grpc_message\":\"Unable to find the relevant tensor remote_handle: Op ID: 452062, Output num: 0\",\"grpc_status\":3}\n"
     ]
    }
   ],
   "source": [
    "train_targets = []\n",
    "train_embeddings = []\n",
    "for filename in tqdm(TRAINING_FILENAMES):\n",
    "    embeddings = get_embeddings(filename)\n",
    "    targets = get_targets(filename)\n",
    "    train_embeddings.append(embeddings)\n",
    "    train_targets.append(targets)\n",
    "train_embeddings = np.concatenate(train_embeddings)\n",
    "train_targets = np.concatenate(train_targets)"
   ]
  },
  {
   "cell_type": "code",
   "execution_count": 21,
   "id": "06112415",
   "metadata": {
    "execution": {
     "iopub.execute_input": "2022-02-26T22:40:05.916020Z",
     "iopub.status.busy": "2022-02-26T22:40:05.915235Z",
     "iopub.status.idle": "2022-02-26T22:40:06.069890Z",
     "shell.execute_reply": "2022-02-26T22:40:06.070369Z",
     "shell.execute_reply.started": "2022-02-20T17:12:00.008711Z"
    },
    "papermill": {
     "duration": 0.214499,
     "end_time": "2022-02-26T22:40:06.070547",
     "exception": false,
     "start_time": "2022-02-26T22:40:05.856048",
     "status": "completed"
    },
    "tags": []
   },
   "outputs": [
    {
     "data": {
      "text/plain": [
       "NearestNeighbors(metric='cosine', n_neighbors=100)"
      ]
     },
     "execution_count": 21,
     "metadata": {},
     "output_type": "execute_result"
    }
   ],
   "source": [
    "from sklearn.neighbors import NearestNeighbors\n",
    "neigh = NearestNeighbors(n_neighbors=config.KNN,metric='cosine')\n",
    "neigh.fit(train_embeddings)"
   ]
  },
  {
   "cell_type": "code",
   "execution_count": 22,
   "id": "471cb0aa",
   "metadata": {
    "execution": {
     "iopub.execute_input": "2022-02-26T22:40:06.188329Z",
     "iopub.status.busy": "2022-02-26T22:40:06.187599Z",
     "iopub.status.idle": "2022-02-26T22:45:30.587489Z",
     "shell.execute_reply": "2022-02-26T22:45:30.585795Z",
     "shell.execute_reply.started": "2022-02-20T17:12:02.677944Z"
    },
    "papermill": {
     "duration": 324.462499,
     "end_time": "2022-02-26T22:45:30.587650",
     "exception": false,
     "start_time": "2022-02-26T22:40:06.125151",
     "status": "completed"
    },
    "tags": []
   },
   "outputs": [
    {
     "data": {
      "application/vnd.jupyter.widget-view+json": {
       "model_id": "32258fc3f7bf49819963c746d257569f",
       "version_major": 2,
       "version_minor": 0
      },
      "text/plain": [
       "  0%|          | 0/2 [00:00<?, ?it/s]"
      ]
     },
     "metadata": {},
     "output_type": "display_data"
    },
    {
     "name": "stderr",
     "output_type": "stream",
     "text": [
      "2022-02-26 22:41:06.851158: W ./tensorflow/core/distributed_runtime/eager/destroy_tensor_handle_node.h:57] Ignoring an error encountered when deleting remote tensors handles: Invalid argument: Unable to find the relevant tensor remote_handle: Op ID: 452410, Output num: 0\n",
      "Additional GRPC error information from remote target /job:worker/replica:0/task:0:\n",
      ":{\"created\":\"@1645915266.850987528\",\"description\":\"Error received from peer ipv4:10.0.0.2:8470\",\"file\":\"external/com_github_grpc_grpc/src/core/lib/surface/call.cc\",\"file_line\":1056,\"grpc_message\":\"Unable to find the relevant tensor remote_handle: Op ID: 452410, Output num: 0\",\"grpc_status\":3}\n",
      "2022-02-26 22:42:07.329980: W ./tensorflow/core/distributed_runtime/eager/destroy_tensor_handle_node.h:57] Ignoring an error encountered when deleting remote tensors handles: Invalid argument: Unable to find the relevant tensor remote_handle: Op ID: 453646, Output num: 0\n",
      "Additional GRPC error information from remote target /job:worker/replica:0/task:0:\n",
      ":{\"created\":\"@1645915327.329208861\",\"description\":\"Error received from peer ipv4:10.0.0.2:8470\",\"file\":\"external/com_github_grpc_grpc/src/core/lib/surface/call.cc\",\"file_line\":1056,\"grpc_message\":\"Unable to find the relevant tensor remote_handle: Op ID: 453646, Output num: 0\",\"grpc_status\":3}\n",
      "2022-02-26 22:43:50.115558: W ./tensorflow/core/distributed_runtime/eager/destroy_tensor_handle_node.h:57] Ignoring an error encountered when deleting remote tensors handles: Invalid argument: Unable to find the relevant tensor remote_handle: Op ID: 454021, Output num: 0\n",
      "Additional GRPC error information from remote target /job:worker/replica:0/task:0:\n",
      ":{\"created\":\"@1645915430.114835997\",\"description\":\"Error received from peer ipv4:10.0.0.2:8470\",\"file\":\"external/com_github_grpc_grpc/src/core/lib/surface/call.cc\",\"file_line\":1056,\"grpc_message\":\"Unable to find the relevant tensor remote_handle: Op ID: 454021, Output num: 0\",\"grpc_status\":3}\n",
      "2022-02-26 22:44:51.747377: W ./tensorflow/core/distributed_runtime/eager/destroy_tensor_handle_node.h:57] Ignoring an error encountered when deleting remote tensors handles: Invalid argument: Unable to find the relevant tensor remote_handle: Op ID: 455257, Output num: 0\n",
      "Additional GRPC error information from remote target /job:worker/replica:0/task:0:\n",
      ":{\"created\":\"@1645915491.746537663\",\"description\":\"Error received from peer ipv4:10.0.0.2:8470\",\"file\":\"external/com_github_grpc_grpc/src/core/lib/surface/call.cc\",\"file_line\":1056,\"grpc_message\":\"Unable to find the relevant tensor remote_handle: Op ID: 455257, Output num: 0\",\"grpc_status\":3}\n"
     ]
    }
   ],
   "source": [
    "test_ids = []\n",
    "test_nn_distances = []\n",
    "test_nn_idxs = []\n",
    "val_targets = []\n",
    "val_embeddings = []\n",
    "for filename in tqdm(VALIDATION_FILENAMES):\n",
    "    embeddings = get_embeddings(filename)\n",
    "    targets = get_targets(filename)\n",
    "    ids = get_ids(filename)\n",
    "    distances,idxs = neigh.kneighbors(embeddings, config.KNN, return_distance=True)\n",
    "    test_ids.append(ids)\n",
    "    test_nn_idxs.append(idxs)\n",
    "    test_nn_distances.append(distances)\n",
    "    val_embeddings.append(embeddings)\n",
    "    val_targets.append(targets)\n",
    "test_nn_distances = np.concatenate(test_nn_distances)\n",
    "test_nn_idxs = np.concatenate(test_nn_idxs)\n",
    "test_ids = np.concatenate(test_ids)\n",
    "val_embeddings = np.concatenate(val_embeddings)\n",
    "val_targets = np.concatenate(val_targets)"
   ]
  },
  {
   "cell_type": "code",
   "execution_count": 23,
   "id": "aa1dd861",
   "metadata": {
    "execution": {
     "iopub.execute_input": "2022-02-26T22:45:30.705909Z",
     "iopub.status.busy": "2022-02-26T22:45:30.705225Z",
     "iopub.status.idle": "2022-02-26T22:45:30.819188Z",
     "shell.execute_reply": "2022-02-26T22:45:30.819662Z",
     "shell.execute_reply.started": "2022-02-20T17:18:14.657622Z"
    },
    "papermill": {
     "duration": 0.176096,
     "end_time": "2022-02-26T22:45:30.819879",
     "exception": false,
     "start_time": "2022-02-26T22:45:30.643783",
     "status": "completed"
    },
    "tags": []
   },
   "outputs": [
    {
     "data": {
      "text/plain": [
       "new_individual    2177\n",
       "37c7aba965a5        79\n",
       "114207cab555        40\n",
       "e69d5f9f8d1e        33\n",
       "ffbb4e585ff2        32\n",
       "                  ... \n",
       "80f4e0d635a7         1\n",
       "c3dad9e679f3         1\n",
       "179af04b755d         1\n",
       "b7065da154c5         1\n",
       "5c0572fe9fc1         1\n",
       "Name: target, Length: 3255, dtype: int64"
      ]
     },
     "execution_count": 23,
     "metadata": {},
     "output_type": "execute_result"
    }
   ],
   "source": [
    "allowed_targets = set([target_encodings[x] for x in np.unique(train_targets)])\n",
    "val_targets_df = pd.DataFrame(np.stack([test_ids,val_targets],axis=1),columns=['image','target'])\n",
    "val_targets_df['target'] = val_targets_df['target'].astype(int).map(target_encodings)\n",
    "val_targets_df.loc[~val_targets_df.target.isin(allowed_targets),'target'] = 'new_individual'\n",
    "val_targets_df.target.value_counts()"
   ]
  },
  {
   "cell_type": "code",
   "execution_count": 24,
   "id": "ff8c87dc",
   "metadata": {
    "execution": {
     "iopub.execute_input": "2022-02-26T22:45:30.969461Z",
     "iopub.status.busy": "2022-02-26T22:45:30.968532Z",
     "iopub.status.idle": "2022-02-26T22:45:43.272905Z",
     "shell.execute_reply": "2022-02-26T22:45:43.272345Z",
     "shell.execute_reply.started": "2022-02-20T17:18:16.164935Z"
    },
    "papermill": {
     "duration": 12.396171,
     "end_time": "2022-02-26T22:45:43.273062",
     "exception": false,
     "start_time": "2022-02-26T22:45:30.876891",
     "status": "completed"
    },
    "tags": []
   },
   "outputs": [
    {
     "data": {
      "application/vnd.jupyter.widget-view+json": {
       "model_id": "579536e8477d4d238aebceb0cad15a90",
       "version_major": 2,
       "version_minor": 0
      },
      "text/plain": [
       "  0%|          | 0/10207 [00:00<?, ?it/s]"
      ]
     },
     "metadata": {},
     "output_type": "display_data"
    },
    {
     "data": {
      "text/plain": [
       "1      528\n",
       "22     187\n",
       "23     187\n",
       "30     182\n",
       "27     182\n",
       "      ... \n",
       "3       12\n",
       "94      11\n",
       "98       7\n",
       "100      3\n",
       "99       2\n",
       "Name: image, Length: 100, dtype: int64"
      ]
     },
     "execution_count": 24,
     "metadata": {},
     "output_type": "execute_result"
    }
   ],
   "source": [
    "test_df = []\n",
    "for i in tqdm(range(len(test_ids))):\n",
    "    id_ = test_ids[i]\n",
    "    targets = train_targets[test_nn_idxs[i]]\n",
    "    distances = test_nn_distances[i]\n",
    "    subset_preds = pd.DataFrame(np.stack([targets,distances],axis=1),columns=['target','distances'])\n",
    "    subset_preds['image'] = id_\n",
    "    test_df.append(subset_preds)\n",
    "test_df = pd.concat(test_df).reset_index(drop=True)\n",
    "test_df['confidence'] = 1-test_df['distances']\n",
    "test_df = test_df.groupby(['image','target']).confidence.max().reset_index()\n",
    "test_df = test_df.sort_values('confidence',ascending=False).reset_index(drop=True)\n",
    "test_df['target'] = test_df['target'].map(target_encodings)\n",
    "test_df.to_csv('val_neighbors.csv')\n",
    "test_df.image.value_counts().value_counts()"
   ]
  },
  {
   "cell_type": "markdown",
   "id": "80e4c93f",
   "metadata": {
    "papermill": {
     "duration": 0.05754,
     "end_time": "2022-02-26T22:45:43.388186",
     "exception": false,
     "start_time": "2022-02-26T22:45:43.330646",
     "status": "completed"
    },
    "tags": []
   },
   "source": [
    "## Inference"
   ]
  },
  {
   "cell_type": "code",
   "execution_count": 25,
   "id": "ff6d53d5",
   "metadata": {
    "execution": {
     "iopub.execute_input": "2022-02-26T22:45:43.509581Z",
     "iopub.status.busy": "2022-02-26T22:45:43.508934Z",
     "iopub.status.idle": "2022-02-26T22:45:43.550770Z",
     "shell.execute_reply": "2022-02-26T22:45:43.550080Z",
     "shell.execute_reply.started": "2022-02-20T17:18:34.224816Z"
    },
    "papermill": {
     "duration": 0.105357,
     "end_time": "2022-02-26T22:45:43.550918",
     "exception": false,
     "start_time": "2022-02-26T22:45:43.445561",
     "status": "completed"
    },
    "tags": []
   },
   "outputs": [
    {
     "name": "stdout",
     "output_type": "stream",
     "text": [
      "(51033, 512) (51033,)\n"
     ]
    }
   ],
   "source": [
    "train_embeddings = np.concatenate([train_embeddings,val_embeddings])\n",
    "train_targets = np.concatenate([train_targets,val_targets])\n",
    "print(train_embeddings.shape,train_targets.shape)"
   ]
  },
  {
   "cell_type": "code",
   "execution_count": 26,
   "id": "9103be51",
   "metadata": {
    "execution": {
     "iopub.execute_input": "2022-02-26T22:45:43.672917Z",
     "iopub.status.busy": "2022-02-26T22:45:43.672205Z",
     "iopub.status.idle": "2022-02-26T22:45:43.700311Z",
     "shell.execute_reply": "2022-02-26T22:45:43.699731Z",
     "shell.execute_reply.started": "2022-02-20T17:18:40.52314Z"
    },
    "papermill": {
     "duration": 0.091674,
     "end_time": "2022-02-26T22:45:43.700451",
     "exception": false,
     "start_time": "2022-02-26T22:45:43.608777",
     "status": "completed"
    },
    "tags": []
   },
   "outputs": [
    {
     "data": {
      "text/plain": [
       "NearestNeighbors(metric='cosine', n_neighbors=100)"
      ]
     },
     "execution_count": 26,
     "metadata": {},
     "output_type": "execute_result"
    }
   ],
   "source": [
    "from sklearn.neighbors import NearestNeighbors\n",
    "neigh = NearestNeighbors(n_neighbors=config.KNN,metric='cosine')\n",
    "neigh.fit(train_embeddings)"
   ]
  },
  {
   "cell_type": "code",
   "execution_count": 27,
   "id": "532e2028",
   "metadata": {
    "execution": {
     "iopub.execute_input": "2022-02-26T22:45:43.849948Z",
     "iopub.status.busy": "2022-02-26T22:45:43.849217Z",
     "iopub.status.idle": "2022-02-26T23:01:30.928434Z",
     "shell.execute_reply": "2022-02-26T23:01:30.926695Z",
     "shell.execute_reply.started": "2022-02-20T17:18:43.290073Z"
    },
    "papermill": {
     "duration": 947.16949,
     "end_time": "2022-02-26T23:01:30.928599",
     "exception": false,
     "start_time": "2022-02-26T22:45:43.759109",
     "status": "completed"
    },
    "tags": []
   },
   "outputs": [
    {
     "data": {
      "application/vnd.jupyter.widget-view+json": {
       "model_id": "415633738ab24a3499973edcb4319144",
       "version_major": 2,
       "version_minor": 0
      },
      "text/plain": [
       "  0%|          | 0/10 [00:00<?, ?it/s]"
      ]
     },
     "metadata": {},
     "output_type": "display_data"
    },
    {
     "name": "stderr",
     "output_type": "stream",
     "text": [
      "2022-02-26 22:46:18.363237: W ./tensorflow/core/distributed_runtime/eager/destroy_tensor_handle_node.h:57] Ignoring an error encountered when deleting remote tensors handles: Invalid argument: Unable to find the relevant tensor remote_handle: Op ID: 455623, Output num: 0\n",
      "Additional GRPC error information from remote target /job:worker/replica:0/task:0:\n",
      ":{\"created\":\"@1645915578.363138576\",\"description\":\"Error received from peer ipv4:10.0.0.2:8470\",\"file\":\"external/com_github_grpc_grpc/src/core/lib/surface/call.cc\",\"file_line\":1056,\"grpc_message\":\"Unable to find the relevant tensor remote_handle: Op ID: 455623, Output num: 0\",\"grpc_status\":3}\n",
      "2022-02-26 22:47:48.926635: W ./tensorflow/core/distributed_runtime/eager/destroy_tensor_handle_node.h:57] Ignoring an error encountered when deleting remote tensors handles: Invalid argument: Unable to find the relevant tensor remote_handle: Op ID: 457162, Output num: 0\n",
      "Additional GRPC error information from remote target /job:worker/replica:0/task:0:\n",
      ":{\"created\":\"@1645915668.926560519\",\"description\":\"Error received from peer ipv4:10.0.0.2:8470\",\"file\":\"external/com_github_grpc_grpc/src/core/lib/surface/call.cc\",\"file_line\":1056,\"grpc_message\":\"Unable to find the relevant tensor remote_handle: Op ID: 457162, Output num: 0\",\"grpc_status\":3}\n",
      "2022-02-26 22:49:29.967852: W ./tensorflow/core/distributed_runtime/eager/destroy_tensor_handle_node.h:57] Ignoring an error encountered when deleting remote tensors handles: Invalid argument: Unable to find the relevant tensor remote_handle: Op ID: 458701, Output num: 0\n",
      "Additional GRPC error information from remote target /job:worker/replica:0/task:0:\n",
      ":{\"created\":\"@1645915769.967721522\",\"description\":\"Error received from peer ipv4:10.0.0.2:8470\",\"file\":\"external/com_github_grpc_grpc/src/core/lib/surface/call.cc\",\"file_line\":1056,\"grpc_message\":\"Unable to find the relevant tensor remote_handle: Op ID: 458701, Output num: 0\",\"grpc_status\":3}\n",
      "2022-02-26 22:50:48.801664: W ./tensorflow/core/distributed_runtime/eager/destroy_tensor_handle_node.h:57] Ignoring an error encountered when deleting remote tensors handles: Invalid argument: Unable to find the relevant tensor remote_handle: Op ID: 460240, Output num: 0\n",
      "Additional GRPC error information from remote target /job:worker/replica:0/task:0:\n",
      ":{\"created\":\"@1645915848.801584939\",\"description\":\"Error received from peer ipv4:10.0.0.2:8470\",\"file\":\"external/com_github_grpc_grpc/src/core/lib/surface/call.cc\",\"file_line\":1056,\"grpc_message\":\"Unable to find the relevant tensor remote_handle: Op ID: 460240, Output num: 0\",\"grpc_status\":3}\n",
      "2022-02-26 22:52:12.726947: W ./tensorflow/core/distributed_runtime/eager/destroy_tensor_handle_node.h:57] Ignoring an error encountered when deleting remote tensors handles: Invalid argument: Unable to find the relevant tensor remote_handle: Op ID: 461779, Output num: 0\n",
      "Additional GRPC error information from remote target /job:worker/replica:0/task:0:\n",
      ":{\"created\":\"@1645915932.726823078\",\"description\":\"Error received from peer ipv4:10.0.0.2:8470\",\"file\":\"external/com_github_grpc_grpc/src/core/lib/surface/call.cc\",\"file_line\":1056,\"grpc_message\":\"Unable to find the relevant tensor remote_handle: Op ID: 461779, Output num: 0\",\"grpc_status\":3}\n",
      "2022-02-26 22:53:54.550807: W ./tensorflow/core/distributed_runtime/eager/destroy_tensor_handle_node.h:57] Ignoring an error encountered when deleting remote tensors handles: Invalid argument: Unable to find the relevant tensor remote_handle: Op ID: 463318, Output num: 0\n",
      "Additional GRPC error information from remote target /job:worker/replica:0/task:0:\n",
      ":{\"created\":\"@1645916034.550706126\",\"description\":\"Error received from peer ipv4:10.0.0.2:8470\",\"file\":\"external/com_github_grpc_grpc/src/core/lib/surface/call.cc\",\"file_line\":1056,\"grpc_message\":\"Unable to find the relevant tensor remote_handle: Op ID: 463318, Output num: 0\",\"grpc_status\":3}\n",
      "2022-02-26 22:55:38.659563: W ./tensorflow/core/distributed_runtime/eager/destroy_tensor_handle_node.h:57] Ignoring an error encountered when deleting remote tensors handles: Invalid argument: Unable to find the relevant tensor remote_handle: Op ID: 464857, Output num: 0\n",
      "Additional GRPC error information from remote target /job:worker/replica:0/task:0:\n",
      ":{\"created\":\"@1645916138.659198794\",\"description\":\"Error received from peer ipv4:10.0.0.2:8470\",\"file\":\"external/com_github_grpc_grpc/src/core/lib/surface/call.cc\",\"file_line\":1056,\"grpc_message\":\"Unable to find the relevant tensor remote_handle: Op ID: 464857, Output num: 0\",\"grpc_status\":3}\n",
      "2022-02-26 22:57:13.909637: W ./tensorflow/core/distributed_runtime/eager/destroy_tensor_handle_node.h:57] Ignoring an error encountered when deleting remote tensors handles: Invalid argument: Unable to find the relevant tensor remote_handle: Op ID: 466396, Output num: 0\n",
      "Additional GRPC error information from remote target /job:worker/replica:0/task:0:\n",
      ":{\"created\":\"@1645916233.909585363\",\"description\":\"Error received from peer ipv4:10.0.0.2:8470\",\"file\":\"external/com_github_grpc_grpc/src/core/lib/surface/call.cc\",\"file_line\":1056,\"grpc_message\":\"Unable to find the relevant tensor remote_handle: Op ID: 466396, Output num: 0\",\"grpc_status\":3}\n",
      "2022-02-26 22:59:12.214888: W ./tensorflow/core/distributed_runtime/eager/destroy_tensor_handle_node.h:57] Ignoring an error encountered when deleting remote tensors handles: Invalid argument: Unable to find the relevant tensor remote_handle: Op ID: 467935, Output num: 0\n",
      "Additional GRPC error information from remote target /job:worker/replica:0/task:0:\n",
      ":{\"created\":\"@1645916352.214635705\",\"description\":\"Error received from peer ipv4:10.0.0.2:8470\",\"file\":\"external/com_github_grpc_grpc/src/core/lib/surface/call.cc\",\"file_line\":1056,\"grpc_message\":\"Unable to find the relevant tensor remote_handle: Op ID: 467935, Output num: 0\",\"grpc_status\":3}\n",
      "2022-02-26 23:00:38.488009: W ./tensorflow/core/distributed_runtime/eager/destroy_tensor_handle_node.h:57] Ignoring an error encountered when deleting remote tensors handles: Invalid argument: Unable to find the relevant tensor remote_handle: Op ID: 469474, Output num: 0\n",
      "Additional GRPC error information from remote target /job:worker/replica:0/task:0:\n",
      ":{\"created\":\"@1645916438.487491774\",\"description\":\"Error received from peer ipv4:10.0.0.2:8470\",\"file\":\"external/com_github_grpc_grpc/src/core/lib/surface/call.cc\",\"file_line\":1056,\"grpc_message\":\"Unable to find the relevant tensor remote_handle: Op ID: 469474, Output num: 0\",\"grpc_status\":3}\n"
     ]
    }
   ],
   "source": [
    "test_ids = []\n",
    "test_nn_distances = []\n",
    "test_nn_idxs = []\n",
    "for filename in tqdm(test_files):\n",
    "    embeddings = get_embeddings(filename)\n",
    "    ids = get_ids(filename)\n",
    "    distances,idxs = neigh.kneighbors(embeddings, config.KNN, return_distance=True)\n",
    "    test_ids.append(ids)\n",
    "    test_nn_idxs.append(idxs)\n",
    "    test_nn_distances.append(distances)\n",
    "test_nn_distances = np.concatenate(test_nn_distances)\n",
    "test_nn_idxs = np.concatenate(test_nn_idxs)\n",
    "test_ids = np.concatenate(test_ids)"
   ]
  },
  {
   "cell_type": "code",
   "execution_count": 28,
   "id": "2e09ac45",
   "metadata": {
    "execution": {
     "iopub.execute_input": "2022-02-26T23:01:31.059932Z",
     "iopub.status.busy": "2022-02-26T23:01:31.058961Z",
     "iopub.status.idle": "2022-02-26T23:02:05.487025Z",
     "shell.execute_reply": "2022-02-26T23:02:05.487549Z",
     "shell.execute_reply.started": "2022-02-20T17:33:41.77975Z"
    },
    "papermill": {
     "duration": 34.496274,
     "end_time": "2022-02-26T23:02:05.487733",
     "exception": false,
     "start_time": "2022-02-26T23:01:30.991459",
     "status": "completed"
    },
    "tags": []
   },
   "outputs": [
    {
     "name": "stdout",
     "output_type": "stream",
     "text": [
      "27956 27956\n"
     ]
    },
    {
     "data": {
      "application/vnd.jupyter.widget-view+json": {
       "model_id": "a4add468da9b49528c3da6deee0344de",
       "version_major": 2,
       "version_minor": 0
      },
      "text/plain": [
       "  0%|          | 0/27956 [00:00<?, ?it/s]"
      ]
     },
     "metadata": {},
     "output_type": "display_data"
    },
    {
     "data": {
      "text/plain": [
       "20     474\n",
       "19     461\n",
       "35     447\n",
       "17     446\n",
       "23     442\n",
       "      ... \n",
       "97      56\n",
       "96      50\n",
       "98      45\n",
       "99      22\n",
       "100     16\n",
       "Name: image, Length: 100, dtype: int64"
      ]
     },
     "execution_count": 28,
     "metadata": {},
     "output_type": "execute_result"
    }
   ],
   "source": [
    "sample_submission = pd.read_csv('../input/happy-whale-and-dolphin/sample_submission.csv',index_col='image')\n",
    "print(len(test_ids),len(sample_submission))\n",
    "test_df = []\n",
    "for i in tqdm(range(len(test_ids))):\n",
    "    id_ = test_ids[i]\n",
    "    targets = train_targets[test_nn_idxs[i]]\n",
    "    distances = test_nn_distances[i]\n",
    "    subset_preds = pd.DataFrame(np.stack([targets,distances],axis=1),columns=['target','distances'])\n",
    "    subset_preds['image'] = id_\n",
    "    test_df.append(subset_preds)\n",
    "test_df = pd.concat(test_df).reset_index(drop=True)\n",
    "test_df['confidence'] = 1-test_df['distances']\n",
    "test_df = test_df.groupby(['image','target']).confidence.max().reset_index()\n",
    "test_df = test_df.sort_values('confidence',ascending=False).reset_index(drop=True)\n",
    "test_df['target'] = test_df['target'].map(target_encodings)\n",
    "test_df.to_csv('test_neighbors.csv')\n",
    "test_df.image.value_counts().value_counts()"
   ]
  },
  {
   "cell_type": "code",
   "execution_count": 29,
   "id": "f7acf258",
   "metadata": {
    "execution": {
     "iopub.execute_input": "2022-02-26T23:02:05.618256Z",
     "iopub.status.busy": "2022-02-26T23:02:05.617563Z",
     "iopub.status.idle": "2022-02-26T23:03:24.666865Z",
     "shell.execute_reply": "2022-02-26T23:03:24.667470Z",
     "shell.execute_reply.started": "2022-02-20T17:34:23.295607Z"
    },
    "papermill": {
     "duration": 79.11707,
     "end_time": "2022-02-26T23:03:24.667649",
     "exception": false,
     "start_time": "2022-02-26T23:02:05.550579",
     "status": "completed"
    },
    "tags": []
   },
   "outputs": [
    {
     "data": {
      "application/vnd.jupyter.widget-view+json": {
       "model_id": "408c204a16444dedbee9b4a4ace31f6b",
       "version_major": 2,
       "version_minor": 0
      },
      "text/plain": [
       "0it [00:00, ?it/s]"
      ]
     },
     "metadata": {},
     "output_type": "display_data"
    },
    {
     "data": {
      "application/vnd.jupyter.widget-view+json": {
       "model_id": "1dc25de5691b4736affc68efc0881225",
       "version_major": 2,
       "version_minor": 0
      },
      "text/plain": [
       "  0%|          | 0/27956 [00:00<?, ?it/s]"
      ]
     },
     "metadata": {},
     "output_type": "display_data"
    },
    {
     "data": {
      "text/html": [
       "<div>\n",
       "<style scoped>\n",
       "    .dataframe tbody tr th:only-of-type {\n",
       "        vertical-align: middle;\n",
       "    }\n",
       "\n",
       "    .dataframe tbody tr th {\n",
       "        vertical-align: top;\n",
       "    }\n",
       "\n",
       "    .dataframe thead th {\n",
       "        text-align: right;\n",
       "    }\n",
       "</style>\n",
       "<table border=\"1\" class=\"dataframe\">\n",
       "  <thead>\n",
       "    <tr style=\"text-align: right;\">\n",
       "      <th></th>\n",
       "      <th>image</th>\n",
       "      <th>predictions</th>\n",
       "    </tr>\n",
       "  </thead>\n",
       "  <tbody>\n",
       "    <tr>\n",
       "      <th>0</th>\n",
       "      <td>3c52966f74d2ad.jpg</td>\n",
       "      <td>978520860ceb new_individual d4dfc9c0b367 a74a0...</td>\n",
       "    </tr>\n",
       "    <tr>\n",
       "      <th>1</th>\n",
       "      <td>d846a86edded63.jpg</td>\n",
       "      <td>03a3bbaeed84 new_individual 52a2c490b25a ce79e...</td>\n",
       "    </tr>\n",
       "    <tr>\n",
       "      <th>2</th>\n",
       "      <td>50df0a954eb94c.jpg</td>\n",
       "      <td>713eb1a00c3d new_individual b848a62e130b 8c78e...</td>\n",
       "    </tr>\n",
       "    <tr>\n",
       "      <th>3</th>\n",
       "      <td>0cfc88bad51a18.jpg</td>\n",
       "      <td>e4a55c745bd9 new_individual 1b434f154c89 5393a...</td>\n",
       "    </tr>\n",
       "    <tr>\n",
       "      <th>4</th>\n",
       "      <td>59bc2d264c9731.jpg</td>\n",
       "      <td>47a2f9918aa2 new_individual 73c68d52e748 82fa8...</td>\n",
       "    </tr>\n",
       "  </tbody>\n",
       "</table>\n",
       "</div>"
      ],
      "text/plain": [
       "                image                                        predictions\n",
       "0  3c52966f74d2ad.jpg  978520860ceb new_individual d4dfc9c0b367 a74a0...\n",
       "1  d846a86edded63.jpg  03a3bbaeed84 new_individual 52a2c490b25a ce79e...\n",
       "2  50df0a954eb94c.jpg  713eb1a00c3d new_individual b848a62e130b 8c78e...\n",
       "3  0cfc88bad51a18.jpg  e4a55c745bd9 new_individual 1b434f154c89 5393a...\n",
       "4  59bc2d264c9731.jpg  47a2f9918aa2 new_individual 73c68d52e748 82fa8..."
      ]
     },
     "execution_count": 29,
     "metadata": {},
     "output_type": "execute_result"
    }
   ],
   "source": [
    "sample_list = ['938b7e931166', '5bf17305f073', '7593d2aee842', '7362d7a01d00','956562ff2888']\n",
    "best_threshold_adjusted = 0.52\n",
    "predictions = {}\n",
    "for i,row in tqdm(test_df.iterrows()):\n",
    "    if row.image in predictions:\n",
    "        if len(predictions[row.image])==5:\n",
    "            continue\n",
    "        predictions[row.image].append(row.target)\n",
    "    elif row.confidence>best_threshold_adjusted:\n",
    "        predictions[row.image] = [row.target,'new_individual']\n",
    "    else:\n",
    "        predictions[row.image] = ['new_individual',row.target]\n",
    "        \n",
    "for x in tqdm(predictions):\n",
    "    if len(predictions[x])<5:\n",
    "        remaining = [y for y in sample_list if y not in predictions]\n",
    "        predictions[x] = predictions[x]+remaining\n",
    "        predictions[x] = predictions[x][:5]\n",
    "    predictions[x] = ' '.join(predictions[x])\n",
    "    \n",
    "predictions = pd.Series(predictions).reset_index()\n",
    "predictions.columns = ['image','predictions']\n",
    "predictions.to_csv('submission.csv',index=False)\n",
    "predictions.head()"
   ]
  },
  {
   "cell_type": "code",
   "execution_count": null,
   "id": "017d7c7a",
   "metadata": {
    "papermill": {
     "duration": 0.066367,
     "end_time": "2022-02-26T23:03:24.797971",
     "exception": false,
     "start_time": "2022-02-26T23:03:24.731604",
     "status": "completed"
    },
    "tags": []
   },
   "outputs": [],
   "source": []
  }
 ],
 "metadata": {
  "kernelspec": {
   "display_name": "Python 3",
   "language": "python",
   "name": "python3"
  },
  "language_info": {
   "codemirror_mode": {
    "name": "ipython",
    "version": 3
   },
   "file_extension": ".py",
   "mimetype": "text/x-python",
   "name": "python",
   "nbconvert_exporter": "python",
   "pygments_lexer": "ipython3",
   "version": "3.7.10"
  },
  "papermill": {
   "default_parameters": {},
   "duration": 3057.802471,
   "end_time": "2022-02-26T23:03:27.795699",
   "environment_variables": {},
   "exception": null,
   "input_path": "__notebook__.ipynb",
   "output_path": "__notebook__.ipynb",
   "parameters": {},
   "start_time": "2022-02-26T22:12:29.993228",
   "version": "2.3.3"
  },
  "widgets": {
   "application/vnd.jupyter.widget-state+json": {
    "state": {
     "020fa5c2bcfb4579bd72cfabe6f436a9": {
      "model_module": "@jupyter-widgets/controls",
      "model_module_version": "1.5.0",
      "model_name": "DescriptionStyleModel",
      "state": {
       "_model_module": "@jupyter-widgets/controls",
       "_model_module_version": "1.5.0",
       "_model_name": "DescriptionStyleModel",
       "_view_count": null,
       "_view_module": "@jupyter-widgets/base",
       "_view_module_version": "1.2.0",
       "_view_name": "StyleView",
       "description_width": ""
      }
     },
     "048bfab307854af59b144c82aa683032": {
      "model_module": "@jupyter-widgets/base",
      "model_module_version": "1.2.0",
      "model_name": "LayoutModel",
      "state": {
       "_model_module": "@jupyter-widgets/base",
       "_model_module_version": "1.2.0",
       "_model_name": "LayoutModel",
       "_view_count": null,
       "_view_module": "@jupyter-widgets/base",
       "_view_module_version": "1.2.0",
       "_view_name": "LayoutView",
       "align_content": null,
       "align_items": null,
       "align_self": null,
       "border": null,
       "bottom": null,
       "display": null,
       "flex": null,
       "flex_flow": null,
       "grid_area": null,
       "grid_auto_columns": null,
       "grid_auto_flow": null,
       "grid_auto_rows": null,
       "grid_column": null,
       "grid_gap": null,
       "grid_row": null,
       "grid_template_areas": null,
       "grid_template_columns": null,
       "grid_template_rows": null,
       "height": null,
       "justify_content": null,
       "justify_items": null,
       "left": null,
       "margin": null,
       "max_height": null,
       "max_width": null,
       "min_height": null,
       "min_width": null,
       "object_fit": null,
       "object_position": null,
       "order": null,
       "overflow": null,
       "overflow_x": null,
       "overflow_y": null,
       "padding": null,
       "right": null,
       "top": null,
       "visibility": null,
       "width": null
      }
     },
     "05e3dcc32aaf481c91d4c27185009105": {
      "model_module": "@jupyter-widgets/controls",
      "model_module_version": "1.5.0",
      "model_name": "DescriptionStyleModel",
      "state": {
       "_model_module": "@jupyter-widgets/controls",
       "_model_module_version": "1.5.0",
       "_model_name": "DescriptionStyleModel",
       "_view_count": null,
       "_view_module": "@jupyter-widgets/base",
       "_view_module_version": "1.2.0",
       "_view_name": "StyleView",
       "description_width": ""
      }
     },
     "06b87d604fa14668bf130b48e4c2464e": {
      "model_module": "@jupyter-widgets/base",
      "model_module_version": "1.2.0",
      "model_name": "LayoutModel",
      "state": {
       "_model_module": "@jupyter-widgets/base",
       "_model_module_version": "1.2.0",
       "_model_name": "LayoutModel",
       "_view_count": null,
       "_view_module": "@jupyter-widgets/base",
       "_view_module_version": "1.2.0",
       "_view_name": "LayoutView",
       "align_content": null,
       "align_items": null,
       "align_self": null,
       "border": null,
       "bottom": null,
       "display": null,
       "flex": null,
       "flex_flow": null,
       "grid_area": null,
       "grid_auto_columns": null,
       "grid_auto_flow": null,
       "grid_auto_rows": null,
       "grid_column": null,
       "grid_gap": null,
       "grid_row": null,
       "grid_template_areas": null,
       "grid_template_columns": null,
       "grid_template_rows": null,
       "height": null,
       "justify_content": null,
       "justify_items": null,
       "left": null,
       "margin": null,
       "max_height": null,
       "max_width": null,
       "min_height": null,
       "min_width": null,
       "object_fit": null,
       "object_position": null,
       "order": null,
       "overflow": null,
       "overflow_x": null,
       "overflow_y": null,
       "padding": null,
       "right": null,
       "top": null,
       "visibility": null,
       "width": null
      }
     },
     "08edfb39c5e94d988c586e226238c697": {
      "model_module": "@jupyter-widgets/controls",
      "model_module_version": "1.5.0",
      "model_name": "HTMLModel",
      "state": {
       "_dom_classes": [],
       "_model_module": "@jupyter-widgets/controls",
       "_model_module_version": "1.5.0",
       "_model_name": "HTMLModel",
       "_view_count": null,
       "_view_module": "@jupyter-widgets/controls",
       "_view_module_version": "1.5.0",
       "_view_name": "HTMLView",
       "description": "",
       "description_tooltip": null,
       "layout": "IPY_MODEL_dd1688bfa44d40508ca8c52cd0c07884",
       "placeholder": "​",
       "style": "IPY_MODEL_b121bf2e4c3c443695f85c21093594d5",
       "value": " 27956/27956 [00:00&lt;00:00, 322801.31it/s]"
      }
     },
     "09db607a667c4379b43e807139525d84": {
      "model_module": "@jupyter-widgets/controls",
      "model_module_version": "1.5.0",
      "model_name": "DescriptionStyleModel",
      "state": {
       "_model_module": "@jupyter-widgets/controls",
       "_model_module_version": "1.5.0",
       "_model_name": "DescriptionStyleModel",
       "_view_count": null,
       "_view_module": "@jupyter-widgets/base",
       "_view_module_version": "1.2.0",
       "_view_name": "StyleView",
       "description_width": ""
      }
     },
     "0f5d40012d6c478bb6bd94d618c3c580": {
      "model_module": "@jupyter-widgets/controls",
      "model_module_version": "1.5.0",
      "model_name": "DescriptionStyleModel",
      "state": {
       "_model_module": "@jupyter-widgets/controls",
       "_model_module_version": "1.5.0",
       "_model_name": "DescriptionStyleModel",
       "_view_count": null,
       "_view_module": "@jupyter-widgets/base",
       "_view_module_version": "1.2.0",
       "_view_name": "StyleView",
       "description_width": ""
      }
     },
     "0fd8830428da4e86970e91a6f926d0ab": {
      "model_module": "@jupyter-widgets/base",
      "model_module_version": "1.2.0",
      "model_name": "LayoutModel",
      "state": {
       "_model_module": "@jupyter-widgets/base",
       "_model_module_version": "1.2.0",
       "_model_name": "LayoutModel",
       "_view_count": null,
       "_view_module": "@jupyter-widgets/base",
       "_view_module_version": "1.2.0",
       "_view_name": "LayoutView",
       "align_content": null,
       "align_items": null,
       "align_self": null,
       "border": null,
       "bottom": null,
       "display": null,
       "flex": null,
       "flex_flow": null,
       "grid_area": null,
       "grid_auto_columns": null,
       "grid_auto_flow": null,
       "grid_auto_rows": null,
       "grid_column": null,
       "grid_gap": null,
       "grid_row": null,
       "grid_template_areas": null,
       "grid_template_columns": null,
       "grid_template_rows": null,
       "height": null,
       "justify_content": null,
       "justify_items": null,
       "left": null,
       "margin": null,
       "max_height": null,
       "max_width": null,
       "min_height": null,
       "min_width": null,
       "object_fit": null,
       "object_position": null,
       "order": null,
       "overflow": null,
       "overflow_x": null,
       "overflow_y": null,
       "padding": null,
       "right": null,
       "top": null,
       "visibility": null,
       "width": null
      }
     },
     "1124e009c0de44819a846d61102a23e1": {
      "model_module": "@jupyter-widgets/base",
      "model_module_version": "1.2.0",
      "model_name": "LayoutModel",
      "state": {
       "_model_module": "@jupyter-widgets/base",
       "_model_module_version": "1.2.0",
       "_model_name": "LayoutModel",
       "_view_count": null,
       "_view_module": "@jupyter-widgets/base",
       "_view_module_version": "1.2.0",
       "_view_name": "LayoutView",
       "align_content": null,
       "align_items": null,
       "align_self": null,
       "border": null,
       "bottom": null,
       "display": null,
       "flex": null,
       "flex_flow": null,
       "grid_area": null,
       "grid_auto_columns": null,
       "grid_auto_flow": null,
       "grid_auto_rows": null,
       "grid_column": null,
       "grid_gap": null,
       "grid_row": null,
       "grid_template_areas": null,
       "grid_template_columns": null,
       "grid_template_rows": null,
       "height": null,
       "justify_content": null,
       "justify_items": null,
       "left": null,
       "margin": null,
       "max_height": null,
       "max_width": null,
       "min_height": null,
       "min_width": null,
       "object_fit": null,
       "object_position": null,
       "order": null,
       "overflow": null,
       "overflow_x": null,
       "overflow_y": null,
       "padding": null,
       "right": null,
       "top": null,
       "visibility": null,
       "width": null
      }
     },
     "1289c5d36d4647e0aa5d3916251a8e2d": {
      "model_module": "@jupyter-widgets/controls",
      "model_module_version": "1.5.0",
      "model_name": "DescriptionStyleModel",
      "state": {
       "_model_module": "@jupyter-widgets/controls",
       "_model_module_version": "1.5.0",
       "_model_name": "DescriptionStyleModel",
       "_view_count": null,
       "_view_module": "@jupyter-widgets/base",
       "_view_module_version": "1.2.0",
       "_view_name": "StyleView",
       "description_width": ""
      }
     },
     "17e4cfc30d4d414a86ec2da742144b5d": {
      "model_module": "@jupyter-widgets/base",
      "model_module_version": "1.2.0",
      "model_name": "LayoutModel",
      "state": {
       "_model_module": "@jupyter-widgets/base",
       "_model_module_version": "1.2.0",
       "_model_name": "LayoutModel",
       "_view_count": null,
       "_view_module": "@jupyter-widgets/base",
       "_view_module_version": "1.2.0",
       "_view_name": "LayoutView",
       "align_content": null,
       "align_items": null,
       "align_self": null,
       "border": null,
       "bottom": null,
       "display": null,
       "flex": null,
       "flex_flow": null,
       "grid_area": null,
       "grid_auto_columns": null,
       "grid_auto_flow": null,
       "grid_auto_rows": null,
       "grid_column": null,
       "grid_gap": null,
       "grid_row": null,
       "grid_template_areas": null,
       "grid_template_columns": null,
       "grid_template_rows": null,
       "height": null,
       "justify_content": null,
       "justify_items": null,
       "left": null,
       "margin": null,
       "max_height": null,
       "max_width": null,
       "min_height": null,
       "min_width": null,
       "object_fit": null,
       "object_position": null,
       "order": null,
       "overflow": null,
       "overflow_x": null,
       "overflow_y": null,
       "padding": null,
       "right": null,
       "top": null,
       "visibility": null,
       "width": null
      }
     },
     "191d8487d1154250b40bb79acfc8e92d": {
      "model_module": "@jupyter-widgets/controls",
      "model_module_version": "1.5.0",
      "model_name": "DescriptionStyleModel",
      "state": {
       "_model_module": "@jupyter-widgets/controls",
       "_model_module_version": "1.5.0",
       "_model_name": "DescriptionStyleModel",
       "_view_count": null,
       "_view_module": "@jupyter-widgets/base",
       "_view_module_version": "1.2.0",
       "_view_name": "StyleView",
       "description_width": ""
      }
     },
     "198028bfcfd6499d84fbcd02df37d68f": {
      "model_module": "@jupyter-widgets/base",
      "model_module_version": "1.2.0",
      "model_name": "LayoutModel",
      "state": {
       "_model_module": "@jupyter-widgets/base",
       "_model_module_version": "1.2.0",
       "_model_name": "LayoutModel",
       "_view_count": null,
       "_view_module": "@jupyter-widgets/base",
       "_view_module_version": "1.2.0",
       "_view_name": "LayoutView",
       "align_content": null,
       "align_items": null,
       "align_self": null,
       "border": null,
       "bottom": null,
       "display": null,
       "flex": null,
       "flex_flow": null,
       "grid_area": null,
       "grid_auto_columns": null,
       "grid_auto_flow": null,
       "grid_auto_rows": null,
       "grid_column": null,
       "grid_gap": null,
       "grid_row": null,
       "grid_template_areas": null,
       "grid_template_columns": null,
       "grid_template_rows": null,
       "height": null,
       "justify_content": null,
       "justify_items": null,
       "left": null,
       "margin": null,
       "max_height": null,
       "max_width": null,
       "min_height": null,
       "min_width": null,
       "object_fit": null,
       "object_position": null,
       "order": null,
       "overflow": null,
       "overflow_x": null,
       "overflow_y": null,
       "padding": null,
       "right": null,
       "top": null,
       "visibility": null,
       "width": null
      }
     },
     "19cf6ed0569a483785d2ace41245178f": {
      "model_module": "@jupyter-widgets/controls",
      "model_module_version": "1.5.0",
      "model_name": "HTMLModel",
      "state": {
       "_dom_classes": [],
       "_model_module": "@jupyter-widgets/controls",
       "_model_module_version": "1.5.0",
       "_model_name": "HTMLModel",
       "_view_count": null,
       "_view_module": "@jupyter-widgets/controls",
       "_view_module_version": "1.5.0",
       "_view_name": "HTMLView",
       "description": "",
       "description_tooltip": null,
       "layout": "IPY_MODEL_bbe9e15403664cec98f4696ed02ad890",
       "placeholder": "​",
       "style": "IPY_MODEL_4680f6e34a404cffb6e963ffe1ccf4f1",
       "value": " 27956/27956 [00:19&lt;00:00, 1530.70it/s]"
      }
     },
     "1a4710b1d3274a36872c60a1c5c58a38": {
      "model_module": "@jupyter-widgets/controls",
      "model_module_version": "1.5.0",
      "model_name": "FloatProgressModel",
      "state": {
       "_dom_classes": [],
       "_model_module": "@jupyter-widgets/controls",
       "_model_module_version": "1.5.0",
       "_model_name": "FloatProgressModel",
       "_view_count": null,
       "_view_module": "@jupyter-widgets/controls",
       "_view_module_version": "1.5.0",
       "_view_name": "ProgressView",
       "bar_style": "success",
       "description": "",
       "description_tooltip": null,
       "layout": "IPY_MODEL_d78f357a59f541daa5c719b2ec1450b1",
       "max": 10207.0,
       "min": 0.0,
       "orientation": "horizontal",
       "style": "IPY_MODEL_a428513babf14b3fb294d2ee57b53e49",
       "value": 10207.0
      }
     },
     "1dc25de5691b4736affc68efc0881225": {
      "model_module": "@jupyter-widgets/controls",
      "model_module_version": "1.5.0",
      "model_name": "HBoxModel",
      "state": {
       "_dom_classes": [],
       "_model_module": "@jupyter-widgets/controls",
       "_model_module_version": "1.5.0",
       "_model_name": "HBoxModel",
       "_view_count": null,
       "_view_module": "@jupyter-widgets/controls",
       "_view_module_version": "1.5.0",
       "_view_name": "HBoxView",
       "box_style": "",
       "children": [
        "IPY_MODEL_a71064a6f89943a89bad22df7bc209e1",
        "IPY_MODEL_4da9f46d8e614ebe86aa753b8a70d452",
        "IPY_MODEL_08edfb39c5e94d988c586e226238c697"
       ],
       "layout": "IPY_MODEL_048bfab307854af59b144c82aa683032"
      }
     },
     "2aac5ff5f161426fba92c92ccd77c858": {
      "model_module": "@jupyter-widgets/base",
      "model_module_version": "1.2.0",
      "model_name": "LayoutModel",
      "state": {
       "_model_module": "@jupyter-widgets/base",
       "_model_module_version": "1.2.0",
       "_model_name": "LayoutModel",
       "_view_count": null,
       "_view_module": "@jupyter-widgets/base",
       "_view_module_version": "1.2.0",
       "_view_name": "LayoutView",
       "align_content": null,
       "align_items": null,
       "align_self": null,
       "border": null,
       "bottom": null,
       "display": null,
       "flex": null,
       "flex_flow": null,
       "grid_area": null,
       "grid_auto_columns": null,
       "grid_auto_flow": null,
       "grid_auto_rows": null,
       "grid_column": null,
       "grid_gap": null,
       "grid_row": null,
       "grid_template_areas": null,
       "grid_template_columns": null,
       "grid_template_rows": null,
       "height": null,
       "justify_content": null,
       "justify_items": null,
       "left": null,
       "margin": null,
       "max_height": null,
       "max_width": null,
       "min_height": null,
       "min_width": null,
       "object_fit": null,
       "object_position": null,
       "order": null,
       "overflow": null,
       "overflow_x": null,
       "overflow_y": null,
       "padding": null,
       "right": null,
       "top": null,
       "visibility": null,
       "width": null
      }
     },
     "2abff5590b6848e6b1542a7883150ce2": {
      "model_module": "@jupyter-widgets/controls",
      "model_module_version": "1.5.0",
      "model_name": "DescriptionStyleModel",
      "state": {
       "_model_module": "@jupyter-widgets/controls",
       "_model_module_version": "1.5.0",
       "_model_name": "DescriptionStyleModel",
       "_view_count": null,
       "_view_module": "@jupyter-widgets/base",
       "_view_module_version": "1.2.0",
       "_view_name": "StyleView",
       "description_width": ""
      }
     },
     "2c3aff5b6c6147a1bb2cb2859c95dd77": {
      "model_module": "@jupyter-widgets/controls",
      "model_module_version": "1.5.0",
      "model_name": "FloatProgressModel",
      "state": {
       "_dom_classes": [],
       "_model_module": "@jupyter-widgets/controls",
       "_model_module_version": "1.5.0",
       "_model_name": "FloatProgressModel",
       "_view_count": null,
       "_view_module": "@jupyter-widgets/controls",
       "_view_module_version": "1.5.0",
       "_view_name": "ProgressView",
       "bar_style": "success",
       "description": "",
       "description_tooltip": null,
       "layout": "IPY_MODEL_4ffec7292c3d4b54b0493aa966c48bb3",
       "max": 2.0,
       "min": 0.0,
       "orientation": "horizontal",
       "style": "IPY_MODEL_8bc8d4541d7f4885a158e34fedd91f3c",
       "value": 2.0
      }
     },
     "2e85e7a6acaf421b9ca3784af14bd4c6": {
      "model_module": "@jupyter-widgets/controls",
      "model_module_version": "1.5.0",
      "model_name": "HTMLModel",
      "state": {
       "_dom_classes": [],
       "_model_module": "@jupyter-widgets/controls",
       "_model_module_version": "1.5.0",
       "_model_name": "HTMLModel",
       "_view_count": null,
       "_view_module": "@jupyter-widgets/controls",
       "_view_module_version": "1.5.0",
       "_view_name": "HTMLView",
       "description": "",
       "description_tooltip": null,
       "layout": "IPY_MODEL_9073e58576bc4480820ad52e67006e41",
       "placeholder": "​",
       "style": "IPY_MODEL_1289c5d36d4647e0aa5d3916251a8e2d",
       "value": " 2/2 [05:24&lt;00:00, 162.91s/it]"
      }
     },
     "2e9a39e2c3964ef28277d552bc75a854": {
      "model_module": "@jupyter-widgets/controls",
      "model_module_version": "1.5.0",
      "model_name": "FloatProgressModel",
      "state": {
       "_dom_classes": [],
       "_model_module": "@jupyter-widgets/controls",
       "_model_module_version": "1.5.0",
       "_model_name": "FloatProgressModel",
       "_view_count": null,
       "_view_module": "@jupyter-widgets/controls",
       "_view_module_version": "1.5.0",
       "_view_name": "ProgressView",
       "bar_style": "success",
       "description": "",
       "description_tooltip": null,
       "layout": "IPY_MODEL_b88065c9e31d4c369aadbc7b03ac7b92",
       "max": 1.0,
       "min": 0.0,
       "orientation": "horizontal",
       "style": "IPY_MODEL_b4f9b2cf28154e83a7cf9a014cd038af",
       "value": 1.0
      }
     },
     "32258fc3f7bf49819963c746d257569f": {
      "model_module": "@jupyter-widgets/controls",
      "model_module_version": "1.5.0",
      "model_name": "HBoxModel",
      "state": {
       "_dom_classes": [],
       "_model_module": "@jupyter-widgets/controls",
       "_model_module_version": "1.5.0",
       "_model_name": "HBoxModel",
       "_view_count": null,
       "_view_module": "@jupyter-widgets/controls",
       "_view_module_version": "1.5.0",
       "_view_name": "HBoxView",
       "box_style": "",
       "children": [
        "IPY_MODEL_3d529fbe24014f0bb011ffa77955f78e",
        "IPY_MODEL_2c3aff5b6c6147a1bb2cb2859c95dd77",
        "IPY_MODEL_2e85e7a6acaf421b9ca3784af14bd4c6"
       ],
       "layout": "IPY_MODEL_6dcae4214ded457aab58e59f9b75dda2"
      }
     },
     "380bb249da114ab987450de7544823db": {
      "model_module": "@jupyter-widgets/controls",
      "model_module_version": "1.5.0",
      "model_name": "DescriptionStyleModel",
      "state": {
       "_model_module": "@jupyter-widgets/controls",
       "_model_module_version": "1.5.0",
       "_model_name": "DescriptionStyleModel",
       "_view_count": null,
       "_view_module": "@jupyter-widgets/base",
       "_view_module_version": "1.2.0",
       "_view_name": "StyleView",
       "description_width": ""
      }
     },
     "3a5110b06a43473386ecc36b04d8261c": {
      "model_module": "@jupyter-widgets/base",
      "model_module_version": "1.2.0",
      "model_name": "LayoutModel",
      "state": {
       "_model_module": "@jupyter-widgets/base",
       "_model_module_version": "1.2.0",
       "_model_name": "LayoutModel",
       "_view_count": null,
       "_view_module": "@jupyter-widgets/base",
       "_view_module_version": "1.2.0",
       "_view_name": "LayoutView",
       "align_content": null,
       "align_items": null,
       "align_self": null,
       "border": null,
       "bottom": null,
       "display": null,
       "flex": null,
       "flex_flow": null,
       "grid_area": null,
       "grid_auto_columns": null,
       "grid_auto_flow": null,
       "grid_auto_rows": null,
       "grid_column": null,
       "grid_gap": null,
       "grid_row": null,
       "grid_template_areas": null,
       "grid_template_columns": null,
       "grid_template_rows": null,
       "height": null,
       "justify_content": null,
       "justify_items": null,
       "left": null,
       "margin": null,
       "max_height": null,
       "max_width": null,
       "min_height": null,
       "min_width": null,
       "object_fit": null,
       "object_position": null,
       "order": null,
       "overflow": null,
       "overflow_x": null,
       "overflow_y": null,
       "padding": null,
       "right": null,
       "top": null,
       "visibility": null,
       "width": null
      }
     },
     "3d529fbe24014f0bb011ffa77955f78e": {
      "model_module": "@jupyter-widgets/controls",
      "model_module_version": "1.5.0",
      "model_name": "HTMLModel",
      "state": {
       "_dom_classes": [],
       "_model_module": "@jupyter-widgets/controls",
       "_model_module_version": "1.5.0",
       "_model_name": "HTMLModel",
       "_view_count": null,
       "_view_module": "@jupyter-widgets/controls",
       "_view_module_version": "1.5.0",
       "_view_name": "HTMLView",
       "description": "",
       "description_tooltip": null,
       "layout": "IPY_MODEL_0fd8830428da4e86970e91a6f926d0ab",
       "placeholder": "​",
       "style": "IPY_MODEL_020fa5c2bcfb4579bd72cfabe6f436a9",
       "value": "100%"
      }
     },
     "408c204a16444dedbee9b4a4ace31f6b": {
      "model_module": "@jupyter-widgets/controls",
      "model_module_version": "1.5.0",
      "model_name": "HBoxModel",
      "state": {
       "_dom_classes": [],
       "_model_module": "@jupyter-widgets/controls",
       "_model_module_version": "1.5.0",
       "_model_name": "HBoxModel",
       "_view_count": null,
       "_view_module": "@jupyter-widgets/controls",
       "_view_module_version": "1.5.0",
       "_view_name": "HBoxView",
       "box_style": "",
       "children": [
        "IPY_MODEL_a1c01d415efe4a3e97af383d066ad776",
        "IPY_MODEL_2e9a39e2c3964ef28277d552bc75a854",
        "IPY_MODEL_f1c02d6742054d5f8273a446c7d9d1f8"
       ],
       "layout": "IPY_MODEL_65f7da69953b4e5c8e57644d86c49ab0"
      }
     },
     "415633738ab24a3499973edcb4319144": {
      "model_module": "@jupyter-widgets/controls",
      "model_module_version": "1.5.0",
      "model_name": "HBoxModel",
      "state": {
       "_dom_classes": [],
       "_model_module": "@jupyter-widgets/controls",
       "_model_module_version": "1.5.0",
       "_model_name": "HBoxModel",
       "_view_count": null,
       "_view_module": "@jupyter-widgets/controls",
       "_view_module_version": "1.5.0",
       "_view_name": "HBoxView",
       "box_style": "",
       "children": [
        "IPY_MODEL_4d6aa09add5d49afa3342746ad07f19f",
        "IPY_MODEL_75e416d12b644e8bbb02cfaf1b34afb2",
        "IPY_MODEL_bc98975f248e418484b34fa951777a13"
       ],
       "layout": "IPY_MODEL_89c4c324c1d84058ba0a12d96e97aa06"
      }
     },
     "4418698c8bfa47f4948b0d9ad698b5d0": {
      "model_module": "@jupyter-widgets/controls",
      "model_module_version": "1.5.0",
      "model_name": "HTMLModel",
      "state": {
       "_dom_classes": [],
       "_model_module": "@jupyter-widgets/controls",
       "_model_module_version": "1.5.0",
       "_model_name": "HTMLModel",
       "_view_count": null,
       "_view_module": "@jupyter-widgets/controls",
       "_view_module_version": "1.5.0",
       "_view_name": "HTMLView",
       "description": "",
       "description_tooltip": null,
       "layout": "IPY_MODEL_3a5110b06a43473386ecc36b04d8261c",
       "placeholder": "​",
       "style": "IPY_MODEL_4f0e23d8d7074c29ac034f9dd02787aa",
       "value": " 10207/10207 [00:07&lt;00:00, 1645.13it/s]"
      }
     },
     "4680f6e34a404cffb6e963ffe1ccf4f1": {
      "model_module": "@jupyter-widgets/controls",
      "model_module_version": "1.5.0",
      "model_name": "DescriptionStyleModel",
      "state": {
       "_model_module": "@jupyter-widgets/controls",
       "_model_module_version": "1.5.0",
       "_model_name": "DescriptionStyleModel",
       "_view_count": null,
       "_view_module": "@jupyter-widgets/base",
       "_view_module_version": "1.2.0",
       "_view_name": "StyleView",
       "description_width": ""
      }
     },
     "4d6aa09add5d49afa3342746ad07f19f": {
      "model_module": "@jupyter-widgets/controls",
      "model_module_version": "1.5.0",
      "model_name": "HTMLModel",
      "state": {
       "_dom_classes": [],
       "_model_module": "@jupyter-widgets/controls",
       "_model_module_version": "1.5.0",
       "_model_name": "HTMLModel",
       "_view_count": null,
       "_view_module": "@jupyter-widgets/controls",
       "_view_module_version": "1.5.0",
       "_view_name": "HTMLView",
       "description": "",
       "description_tooltip": null,
       "layout": "IPY_MODEL_c6ef19d8539e4eb7a175f01a2e7c6e40",
       "placeholder": "​",
       "style": "IPY_MODEL_0f5d40012d6c478bb6bd94d618c3c580",
       "value": "100%"
      }
     },
     "4da9f46d8e614ebe86aa753b8a70d452": {
      "model_module": "@jupyter-widgets/controls",
      "model_module_version": "1.5.0",
      "model_name": "FloatProgressModel",
      "state": {
       "_dom_classes": [],
       "_model_module": "@jupyter-widgets/controls",
       "_model_module_version": "1.5.0",
       "_model_name": "FloatProgressModel",
       "_view_count": null,
       "_view_module": "@jupyter-widgets/controls",
       "_view_module_version": "1.5.0",
       "_view_name": "ProgressView",
       "bar_style": "success",
       "description": "",
       "description_tooltip": null,
       "layout": "IPY_MODEL_8d11ee6319344904926ed98f463bbed1",
       "max": 27956.0,
       "min": 0.0,
       "orientation": "horizontal",
       "style": "IPY_MODEL_a1a0330502e948b9b95df3b7f1cb8053",
       "value": 27956.0
      }
     },
     "4f0e23d8d7074c29ac034f9dd02787aa": {
      "model_module": "@jupyter-widgets/controls",
      "model_module_version": "1.5.0",
      "model_name": "DescriptionStyleModel",
      "state": {
       "_model_module": "@jupyter-widgets/controls",
       "_model_module_version": "1.5.0",
       "_model_name": "DescriptionStyleModel",
       "_view_count": null,
       "_view_module": "@jupyter-widgets/base",
       "_view_module_version": "1.2.0",
       "_view_name": "StyleView",
       "description_width": ""
      }
     },
     "4ffec7292c3d4b54b0493aa966c48bb3": {
      "model_module": "@jupyter-widgets/base",
      "model_module_version": "1.2.0",
      "model_name": "LayoutModel",
      "state": {
       "_model_module": "@jupyter-widgets/base",
       "_model_module_version": "1.2.0",
       "_model_name": "LayoutModel",
       "_view_count": null,
       "_view_module": "@jupyter-widgets/base",
       "_view_module_version": "1.2.0",
       "_view_name": "LayoutView",
       "align_content": null,
       "align_items": null,
       "align_self": null,
       "border": null,
       "bottom": null,
       "display": null,
       "flex": null,
       "flex_flow": null,
       "grid_area": null,
       "grid_auto_columns": null,
       "grid_auto_flow": null,
       "grid_auto_rows": null,
       "grid_column": null,
       "grid_gap": null,
       "grid_row": null,
       "grid_template_areas": null,
       "grid_template_columns": null,
       "grid_template_rows": null,
       "height": null,
       "justify_content": null,
       "justify_items": null,
       "left": null,
       "margin": null,
       "max_height": null,
       "max_width": null,
       "min_height": null,
       "min_width": null,
       "object_fit": null,
       "object_position": null,
       "order": null,
       "overflow": null,
       "overflow_x": null,
       "overflow_y": null,
       "padding": null,
       "right": null,
       "top": null,
       "visibility": null,
       "width": null
      }
     },
     "579536e8477d4d238aebceb0cad15a90": {
      "model_module": "@jupyter-widgets/controls",
      "model_module_version": "1.5.0",
      "model_name": "HBoxModel",
      "state": {
       "_dom_classes": [],
       "_model_module": "@jupyter-widgets/controls",
       "_model_module_version": "1.5.0",
       "_model_name": "HBoxModel",
       "_view_count": null,
       "_view_module": "@jupyter-widgets/controls",
       "_view_module_version": "1.5.0",
       "_view_name": "HBoxView",
       "box_style": "",
       "children": [
        "IPY_MODEL_fc36b2a1bbf54a7d8d3374f2c5153f54",
        "IPY_MODEL_1a4710b1d3274a36872c60a1c5c58a38",
        "IPY_MODEL_4418698c8bfa47f4948b0d9ad698b5d0"
       ],
       "layout": "IPY_MODEL_96cfb0b578db4657ba60ec807fe46b80"
      }
     },
     "5e000c7362c64f888438608d33649b3d": {
      "model_module": "@jupyter-widgets/base",
      "model_module_version": "1.2.0",
      "model_name": "LayoutModel",
      "state": {
       "_model_module": "@jupyter-widgets/base",
       "_model_module_version": "1.2.0",
       "_model_name": "LayoutModel",
       "_view_count": null,
       "_view_module": "@jupyter-widgets/base",
       "_view_module_version": "1.2.0",
       "_view_name": "LayoutView",
       "align_content": null,
       "align_items": null,
       "align_self": null,
       "border": null,
       "bottom": null,
       "display": null,
       "flex": null,
       "flex_flow": null,
       "grid_area": null,
       "grid_auto_columns": null,
       "grid_auto_flow": null,
       "grid_auto_rows": null,
       "grid_column": null,
       "grid_gap": null,
       "grid_row": null,
       "grid_template_areas": null,
       "grid_template_columns": null,
       "grid_template_rows": null,
       "height": null,
       "justify_content": null,
       "justify_items": null,
       "left": null,
       "margin": null,
       "max_height": null,
       "max_width": null,
       "min_height": null,
       "min_width": null,
       "object_fit": null,
       "object_position": null,
       "order": null,
       "overflow": null,
       "overflow_x": null,
       "overflow_y": null,
       "padding": null,
       "right": null,
       "top": null,
       "visibility": null,
       "width": null
      }
     },
     "5fca70e9abbe44838b070eb947d53c97": {
      "model_module": "@jupyter-widgets/base",
      "model_module_version": "1.2.0",
      "model_name": "LayoutModel",
      "state": {
       "_model_module": "@jupyter-widgets/base",
       "_model_module_version": "1.2.0",
       "_model_name": "LayoutModel",
       "_view_count": null,
       "_view_module": "@jupyter-widgets/base",
       "_view_module_version": "1.2.0",
       "_view_name": "LayoutView",
       "align_content": null,
       "align_items": null,
       "align_self": null,
       "border": null,
       "bottom": null,
       "display": null,
       "flex": null,
       "flex_flow": null,
       "grid_area": null,
       "grid_auto_columns": null,
       "grid_auto_flow": null,
       "grid_auto_rows": null,
       "grid_column": null,
       "grid_gap": null,
       "grid_row": null,
       "grid_template_areas": null,
       "grid_template_columns": null,
       "grid_template_rows": null,
       "height": null,
       "justify_content": null,
       "justify_items": null,
       "left": null,
       "margin": null,
       "max_height": null,
       "max_width": null,
       "min_height": null,
       "min_width": null,
       "object_fit": null,
       "object_position": null,
       "order": null,
       "overflow": null,
       "overflow_x": null,
       "overflow_y": null,
       "padding": null,
       "right": null,
       "top": null,
       "visibility": null,
       "width": null
      }
     },
     "65f7da69953b4e5c8e57644d86c49ab0": {
      "model_module": "@jupyter-widgets/base",
      "model_module_version": "1.2.0",
      "model_name": "LayoutModel",
      "state": {
       "_model_module": "@jupyter-widgets/base",
       "_model_module_version": "1.2.0",
       "_model_name": "LayoutModel",
       "_view_count": null,
       "_view_module": "@jupyter-widgets/base",
       "_view_module_version": "1.2.0",
       "_view_name": "LayoutView",
       "align_content": null,
       "align_items": null,
       "align_self": null,
       "border": null,
       "bottom": null,
       "display": null,
       "flex": null,
       "flex_flow": null,
       "grid_area": null,
       "grid_auto_columns": null,
       "grid_auto_flow": null,
       "grid_auto_rows": null,
       "grid_column": null,
       "grid_gap": null,
       "grid_row": null,
       "grid_template_areas": null,
       "grid_template_columns": null,
       "grid_template_rows": null,
       "height": null,
       "justify_content": null,
       "justify_items": null,
       "left": null,
       "margin": null,
       "max_height": null,
       "max_width": null,
       "min_height": null,
       "min_width": null,
       "object_fit": null,
       "object_position": null,
       "order": null,
       "overflow": null,
       "overflow_x": null,
       "overflow_y": null,
       "padding": null,
       "right": null,
       "top": null,
       "visibility": null,
       "width": null
      }
     },
     "687332fd26fc44f396de2e018acf9f7a": {
      "model_module": "@jupyter-widgets/controls",
      "model_module_version": "1.5.0",
      "model_name": "DescriptionStyleModel",
      "state": {
       "_model_module": "@jupyter-widgets/controls",
       "_model_module_version": "1.5.0",
       "_model_name": "DescriptionStyleModel",
       "_view_count": null,
       "_view_module": "@jupyter-widgets/base",
       "_view_module_version": "1.2.0",
       "_view_name": "StyleView",
       "description_width": ""
      }
     },
     "6dcae4214ded457aab58e59f9b75dda2": {
      "model_module": "@jupyter-widgets/base",
      "model_module_version": "1.2.0",
      "model_name": "LayoutModel",
      "state": {
       "_model_module": "@jupyter-widgets/base",
       "_model_module_version": "1.2.0",
       "_model_name": "LayoutModel",
       "_view_count": null,
       "_view_module": "@jupyter-widgets/base",
       "_view_module_version": "1.2.0",
       "_view_name": "LayoutView",
       "align_content": null,
       "align_items": null,
       "align_self": null,
       "border": null,
       "bottom": null,
       "display": null,
       "flex": null,
       "flex_flow": null,
       "grid_area": null,
       "grid_auto_columns": null,
       "grid_auto_flow": null,
       "grid_auto_rows": null,
       "grid_column": null,
       "grid_gap": null,
       "grid_row": null,
       "grid_template_areas": null,
       "grid_template_columns": null,
       "grid_template_rows": null,
       "height": null,
       "justify_content": null,
       "justify_items": null,
       "left": null,
       "margin": null,
       "max_height": null,
       "max_width": null,
       "min_height": null,
       "min_width": null,
       "object_fit": null,
       "object_position": null,
       "order": null,
       "overflow": null,
       "overflow_x": null,
       "overflow_y": null,
       "padding": null,
       "right": null,
       "top": null,
       "visibility": null,
       "width": null
      }
     },
     "7145c05ddd204360b43b416180210b9d": {
      "model_module": "@jupyter-widgets/base",
      "model_module_version": "1.2.0",
      "model_name": "LayoutModel",
      "state": {
       "_model_module": "@jupyter-widgets/base",
       "_model_module_version": "1.2.0",
       "_model_name": "LayoutModel",
       "_view_count": null,
       "_view_module": "@jupyter-widgets/base",
       "_view_module_version": "1.2.0",
       "_view_name": "LayoutView",
       "align_content": null,
       "align_items": null,
       "align_self": null,
       "border": null,
       "bottom": null,
       "display": null,
       "flex": null,
       "flex_flow": null,
       "grid_area": null,
       "grid_auto_columns": null,
       "grid_auto_flow": null,
       "grid_auto_rows": null,
       "grid_column": null,
       "grid_gap": null,
       "grid_row": null,
       "grid_template_areas": null,
       "grid_template_columns": null,
       "grid_template_rows": null,
       "height": null,
       "justify_content": null,
       "justify_items": null,
       "left": null,
       "margin": null,
       "max_height": null,
       "max_width": null,
       "min_height": null,
       "min_width": null,
       "object_fit": null,
       "object_position": null,
       "order": null,
       "overflow": null,
       "overflow_x": null,
       "overflow_y": null,
       "padding": null,
       "right": null,
       "top": null,
       "visibility": null,
       "width": null
      }
     },
     "75e416d12b644e8bbb02cfaf1b34afb2": {
      "model_module": "@jupyter-widgets/controls",
      "model_module_version": "1.5.0",
      "model_name": "FloatProgressModel",
      "state": {
       "_dom_classes": [],
       "_model_module": "@jupyter-widgets/controls",
       "_model_module_version": "1.5.0",
       "_model_name": "FloatProgressModel",
       "_view_count": null,
       "_view_module": "@jupyter-widgets/controls",
       "_view_module_version": "1.5.0",
       "_view_name": "ProgressView",
       "bar_style": "success",
       "description": "",
       "description_tooltip": null,
       "layout": "IPY_MODEL_17e4cfc30d4d414a86ec2da742144b5d",
       "max": 10.0,
       "min": 0.0,
       "orientation": "horizontal",
       "style": "IPY_MODEL_f14a42f16e734078b88ed47294b980e6",
       "value": 10.0
      }
     },
     "78ee30c73a7745ea8f23b5d6833f28c8": {
      "model_module": "@jupyter-widgets/controls",
      "model_module_version": "1.5.0",
      "model_name": "ProgressStyleModel",
      "state": {
       "_model_module": "@jupyter-widgets/controls",
       "_model_module_version": "1.5.0",
       "_model_name": "ProgressStyleModel",
       "_view_count": null,
       "_view_module": "@jupyter-widgets/base",
       "_view_module_version": "1.2.0",
       "_view_name": "StyleView",
       "bar_color": null,
       "description_width": ""
      }
     },
     "7dbdde05cd0a47b09f963d986b2dc60c": {
      "model_module": "@jupyter-widgets/controls",
      "model_module_version": "1.5.0",
      "model_name": "HTMLModel",
      "state": {
       "_dom_classes": [],
       "_model_module": "@jupyter-widgets/controls",
       "_model_module_version": "1.5.0",
       "_model_name": "HTMLModel",
       "_view_count": null,
       "_view_module": "@jupyter-widgets/controls",
       "_view_module_version": "1.5.0",
       "_view_name": "HTMLView",
       "description": "",
       "description_tooltip": null,
       "layout": "IPY_MODEL_06b87d604fa14668bf130b48e4c2464e",
       "placeholder": "​",
       "style": "IPY_MODEL_05e3dcc32aaf481c91d4c27185009105",
       "value": "100%"
      }
     },
     "7df2c283ec20420f85359aa0d9a9e861": {
      "model_module": "@jupyter-widgets/controls",
      "model_module_version": "1.5.0",
      "model_name": "HTMLModel",
      "state": {
       "_dom_classes": [],
       "_model_module": "@jupyter-widgets/controls",
       "_model_module_version": "1.5.0",
       "_model_name": "HTMLModel",
       "_view_count": null,
       "_view_module": "@jupyter-widgets/controls",
       "_view_module_version": "1.5.0",
       "_view_name": "HTMLView",
       "description": "",
       "description_tooltip": null,
       "layout": "IPY_MODEL_2aac5ff5f161426fba92c92ccd77c858",
       "placeholder": "​",
       "style": "IPY_MODEL_191d8487d1154250b40bb79acfc8e92d",
       "value": "100%"
      }
     },
     "89c4c324c1d84058ba0a12d96e97aa06": {
      "model_module": "@jupyter-widgets/base",
      "model_module_version": "1.2.0",
      "model_name": "LayoutModel",
      "state": {
       "_model_module": "@jupyter-widgets/base",
       "_model_module_version": "1.2.0",
       "_model_name": "LayoutModel",
       "_view_count": null,
       "_view_module": "@jupyter-widgets/base",
       "_view_module_version": "1.2.0",
       "_view_name": "LayoutView",
       "align_content": null,
       "align_items": null,
       "align_self": null,
       "border": null,
       "bottom": null,
       "display": null,
       "flex": null,
       "flex_flow": null,
       "grid_area": null,
       "grid_auto_columns": null,
       "grid_auto_flow": null,
       "grid_auto_rows": null,
       "grid_column": null,
       "grid_gap": null,
       "grid_row": null,
       "grid_template_areas": null,
       "grid_template_columns": null,
       "grid_template_rows": null,
       "height": null,
       "justify_content": null,
       "justify_items": null,
       "left": null,
       "margin": null,
       "max_height": null,
       "max_width": null,
       "min_height": null,
       "min_width": null,
       "object_fit": null,
       "object_position": null,
       "order": null,
       "overflow": null,
       "overflow_x": null,
       "overflow_y": null,
       "padding": null,
       "right": null,
       "top": null,
       "visibility": null,
       "width": null
      }
     },
     "8bc8d4541d7f4885a158e34fedd91f3c": {
      "model_module": "@jupyter-widgets/controls",
      "model_module_version": "1.5.0",
      "model_name": "ProgressStyleModel",
      "state": {
       "_model_module": "@jupyter-widgets/controls",
       "_model_module_version": "1.5.0",
       "_model_name": "ProgressStyleModel",
       "_view_count": null,
       "_view_module": "@jupyter-widgets/base",
       "_view_module_version": "1.2.0",
       "_view_name": "StyleView",
       "bar_color": null,
       "description_width": ""
      }
     },
     "8d11ee6319344904926ed98f463bbed1": {
      "model_module": "@jupyter-widgets/base",
      "model_module_version": "1.2.0",
      "model_name": "LayoutModel",
      "state": {
       "_model_module": "@jupyter-widgets/base",
       "_model_module_version": "1.2.0",
       "_model_name": "LayoutModel",
       "_view_count": null,
       "_view_module": "@jupyter-widgets/base",
       "_view_module_version": "1.2.0",
       "_view_name": "LayoutView",
       "align_content": null,
       "align_items": null,
       "align_self": null,
       "border": null,
       "bottom": null,
       "display": null,
       "flex": null,
       "flex_flow": null,
       "grid_area": null,
       "grid_auto_columns": null,
       "grid_auto_flow": null,
       "grid_auto_rows": null,
       "grid_column": null,
       "grid_gap": null,
       "grid_row": null,
       "grid_template_areas": null,
       "grid_template_columns": null,
       "grid_template_rows": null,
       "height": null,
       "justify_content": null,
       "justify_items": null,
       "left": null,
       "margin": null,
       "max_height": null,
       "max_width": null,
       "min_height": null,
       "min_width": null,
       "object_fit": null,
       "object_position": null,
       "order": null,
       "overflow": null,
       "overflow_x": null,
       "overflow_y": null,
       "padding": null,
       "right": null,
       "top": null,
       "visibility": null,
       "width": null
      }
     },
     "9073e58576bc4480820ad52e67006e41": {
      "model_module": "@jupyter-widgets/base",
      "model_module_version": "1.2.0",
      "model_name": "LayoutModel",
      "state": {
       "_model_module": "@jupyter-widgets/base",
       "_model_module_version": "1.2.0",
       "_model_name": "LayoutModel",
       "_view_count": null,
       "_view_module": "@jupyter-widgets/base",
       "_view_module_version": "1.2.0",
       "_view_name": "LayoutView",
       "align_content": null,
       "align_items": null,
       "align_self": null,
       "border": null,
       "bottom": null,
       "display": null,
       "flex": null,
       "flex_flow": null,
       "grid_area": null,
       "grid_auto_columns": null,
       "grid_auto_flow": null,
       "grid_auto_rows": null,
       "grid_column": null,
       "grid_gap": null,
       "grid_row": null,
       "grid_template_areas": null,
       "grid_template_columns": null,
       "grid_template_rows": null,
       "height": null,
       "justify_content": null,
       "justify_items": null,
       "left": null,
       "margin": null,
       "max_height": null,
       "max_width": null,
       "min_height": null,
       "min_width": null,
       "object_fit": null,
       "object_position": null,
       "order": null,
       "overflow": null,
       "overflow_x": null,
       "overflow_y": null,
       "padding": null,
       "right": null,
       "top": null,
       "visibility": null,
       "width": null
      }
     },
     "96cfb0b578db4657ba60ec807fe46b80": {
      "model_module": "@jupyter-widgets/base",
      "model_module_version": "1.2.0",
      "model_name": "LayoutModel",
      "state": {
       "_model_module": "@jupyter-widgets/base",
       "_model_module_version": "1.2.0",
       "_model_name": "LayoutModel",
       "_view_count": null,
       "_view_module": "@jupyter-widgets/base",
       "_view_module_version": "1.2.0",
       "_view_name": "LayoutView",
       "align_content": null,
       "align_items": null,
       "align_self": null,
       "border": null,
       "bottom": null,
       "display": null,
       "flex": null,
       "flex_flow": null,
       "grid_area": null,
       "grid_auto_columns": null,
       "grid_auto_flow": null,
       "grid_auto_rows": null,
       "grid_column": null,
       "grid_gap": null,
       "grid_row": null,
       "grid_template_areas": null,
       "grid_template_columns": null,
       "grid_template_rows": null,
       "height": null,
       "justify_content": null,
       "justify_items": null,
       "left": null,
       "margin": null,
       "max_height": null,
       "max_width": null,
       "min_height": null,
       "min_width": null,
       "object_fit": null,
       "object_position": null,
       "order": null,
       "overflow": null,
       "overflow_x": null,
       "overflow_y": null,
       "padding": null,
       "right": null,
       "top": null,
       "visibility": null,
       "width": null
      }
     },
     "9e3e49347653448b8bb6a3d874caa3ab": {
      "model_module": "@jupyter-widgets/base",
      "model_module_version": "1.2.0",
      "model_name": "LayoutModel",
      "state": {
       "_model_module": "@jupyter-widgets/base",
       "_model_module_version": "1.2.0",
       "_model_name": "LayoutModel",
       "_view_count": null,
       "_view_module": "@jupyter-widgets/base",
       "_view_module_version": "1.2.0",
       "_view_name": "LayoutView",
       "align_content": null,
       "align_items": null,
       "align_self": null,
       "border": null,
       "bottom": null,
       "display": null,
       "flex": null,
       "flex_flow": null,
       "grid_area": null,
       "grid_auto_columns": null,
       "grid_auto_flow": null,
       "grid_auto_rows": null,
       "grid_column": null,
       "grid_gap": null,
       "grid_row": null,
       "grid_template_areas": null,
       "grid_template_columns": null,
       "grid_template_rows": null,
       "height": null,
       "justify_content": null,
       "justify_items": null,
       "left": null,
       "margin": null,
       "max_height": null,
       "max_width": null,
       "min_height": null,
       "min_width": null,
       "object_fit": null,
       "object_position": null,
       "order": null,
       "overflow": null,
       "overflow_x": null,
       "overflow_y": null,
       "padding": null,
       "right": null,
       "top": null,
       "visibility": null,
       "width": null
      }
     },
     "a1a0330502e948b9b95df3b7f1cb8053": {
      "model_module": "@jupyter-widgets/controls",
      "model_module_version": "1.5.0",
      "model_name": "ProgressStyleModel",
      "state": {
       "_model_module": "@jupyter-widgets/controls",
       "_model_module_version": "1.5.0",
       "_model_name": "ProgressStyleModel",
       "_view_count": null,
       "_view_module": "@jupyter-widgets/base",
       "_view_module_version": "1.2.0",
       "_view_name": "StyleView",
       "bar_color": null,
       "description_width": ""
      }
     },
     "a1c01d415efe4a3e97af383d066ad776": {
      "model_module": "@jupyter-widgets/controls",
      "model_module_version": "1.5.0",
      "model_name": "HTMLModel",
      "state": {
       "_dom_classes": [],
       "_model_module": "@jupyter-widgets/controls",
       "_model_module_version": "1.5.0",
       "_model_name": "HTMLModel",
       "_view_count": null,
       "_view_module": "@jupyter-widgets/controls",
       "_view_module_version": "1.5.0",
       "_view_name": "HTMLView",
       "description": "",
       "description_tooltip": null,
       "layout": "IPY_MODEL_5e000c7362c64f888438608d33649b3d",
       "placeholder": "​",
       "style": "IPY_MODEL_2abff5590b6848e6b1542a7883150ce2",
       "value": ""
      }
     },
     "a428513babf14b3fb294d2ee57b53e49": {
      "model_module": "@jupyter-widgets/controls",
      "model_module_version": "1.5.0",
      "model_name": "ProgressStyleModel",
      "state": {
       "_model_module": "@jupyter-widgets/controls",
       "_model_module_version": "1.5.0",
       "_model_name": "ProgressStyleModel",
       "_view_count": null,
       "_view_module": "@jupyter-widgets/base",
       "_view_module_version": "1.2.0",
       "_view_name": "StyleView",
       "bar_color": null,
       "description_width": ""
      }
     },
     "a4add468da9b49528c3da6deee0344de": {
      "model_module": "@jupyter-widgets/controls",
      "model_module_version": "1.5.0",
      "model_name": "HBoxModel",
      "state": {
       "_dom_classes": [],
       "_model_module": "@jupyter-widgets/controls",
       "_model_module_version": "1.5.0",
       "_model_name": "HBoxModel",
       "_view_count": null,
       "_view_module": "@jupyter-widgets/controls",
       "_view_module_version": "1.5.0",
       "_view_name": "HBoxView",
       "box_style": "",
       "children": [
        "IPY_MODEL_7df2c283ec20420f85359aa0d9a9e861",
        "IPY_MODEL_c773bb61649f46438e01e7f578110055",
        "IPY_MODEL_19cf6ed0569a483785d2ace41245178f"
       ],
       "layout": "IPY_MODEL_5fca70e9abbe44838b070eb947d53c97"
      }
     },
     "a71064a6f89943a89bad22df7bc209e1": {
      "model_module": "@jupyter-widgets/controls",
      "model_module_version": "1.5.0",
      "model_name": "HTMLModel",
      "state": {
       "_dom_classes": [],
       "_model_module": "@jupyter-widgets/controls",
       "_model_module_version": "1.5.0",
       "_model_name": "HTMLModel",
       "_view_count": null,
       "_view_module": "@jupyter-widgets/controls",
       "_view_module_version": "1.5.0",
       "_view_name": "HTMLView",
       "description": "",
       "description_tooltip": null,
       "layout": "IPY_MODEL_fe219aad37014d54b70186141efbb4e5",
       "placeholder": "​",
       "style": "IPY_MODEL_380bb249da114ab987450de7544823db",
       "value": "100%"
      }
     },
     "b121bf2e4c3c443695f85c21093594d5": {
      "model_module": "@jupyter-widgets/controls",
      "model_module_version": "1.5.0",
      "model_name": "DescriptionStyleModel",
      "state": {
       "_model_module": "@jupyter-widgets/controls",
       "_model_module_version": "1.5.0",
       "_model_name": "DescriptionStyleModel",
       "_view_count": null,
       "_view_module": "@jupyter-widgets/base",
       "_view_module_version": "1.2.0",
       "_view_name": "StyleView",
       "description_width": ""
      }
     },
     "b4f9b2cf28154e83a7cf9a014cd038af": {
      "model_module": "@jupyter-widgets/controls",
      "model_module_version": "1.5.0",
      "model_name": "ProgressStyleModel",
      "state": {
       "_model_module": "@jupyter-widgets/controls",
       "_model_module_version": "1.5.0",
       "_model_name": "ProgressStyleModel",
       "_view_count": null,
       "_view_module": "@jupyter-widgets/base",
       "_view_module_version": "1.2.0",
       "_view_name": "StyleView",
       "bar_color": null,
       "description_width": ""
      }
     },
     "b88065c9e31d4c369aadbc7b03ac7b92": {
      "model_module": "@jupyter-widgets/base",
      "model_module_version": "1.2.0",
      "model_name": "LayoutModel",
      "state": {
       "_model_module": "@jupyter-widgets/base",
       "_model_module_version": "1.2.0",
       "_model_name": "LayoutModel",
       "_view_count": null,
       "_view_module": "@jupyter-widgets/base",
       "_view_module_version": "1.2.0",
       "_view_name": "LayoutView",
       "align_content": null,
       "align_items": null,
       "align_self": null,
       "border": null,
       "bottom": null,
       "display": null,
       "flex": null,
       "flex_flow": null,
       "grid_area": null,
       "grid_auto_columns": null,
       "grid_auto_flow": null,
       "grid_auto_rows": null,
       "grid_column": null,
       "grid_gap": null,
       "grid_row": null,
       "grid_template_areas": null,
       "grid_template_columns": null,
       "grid_template_rows": null,
       "height": null,
       "justify_content": null,
       "justify_items": null,
       "left": null,
       "margin": null,
       "max_height": null,
       "max_width": null,
       "min_height": null,
       "min_width": null,
       "object_fit": null,
       "object_position": null,
       "order": null,
       "overflow": null,
       "overflow_x": null,
       "overflow_y": null,
       "padding": null,
       "right": null,
       "top": null,
       "visibility": null,
       "width": "20px"
      }
     },
     "bbe9e15403664cec98f4696ed02ad890": {
      "model_module": "@jupyter-widgets/base",
      "model_module_version": "1.2.0",
      "model_name": "LayoutModel",
      "state": {
       "_model_module": "@jupyter-widgets/base",
       "_model_module_version": "1.2.0",
       "_model_name": "LayoutModel",
       "_view_count": null,
       "_view_module": "@jupyter-widgets/base",
       "_view_module_version": "1.2.0",
       "_view_name": "LayoutView",
       "align_content": null,
       "align_items": null,
       "align_self": null,
       "border": null,
       "bottom": null,
       "display": null,
       "flex": null,
       "flex_flow": null,
       "grid_area": null,
       "grid_auto_columns": null,
       "grid_auto_flow": null,
       "grid_auto_rows": null,
       "grid_column": null,
       "grid_gap": null,
       "grid_row": null,
       "grid_template_areas": null,
       "grid_template_columns": null,
       "grid_template_rows": null,
       "height": null,
       "justify_content": null,
       "justify_items": null,
       "left": null,
       "margin": null,
       "max_height": null,
       "max_width": null,
       "min_height": null,
       "min_width": null,
       "object_fit": null,
       "object_position": null,
       "order": null,
       "overflow": null,
       "overflow_x": null,
       "overflow_y": null,
       "padding": null,
       "right": null,
       "top": null,
       "visibility": null,
       "width": null
      }
     },
     "bc98975f248e418484b34fa951777a13": {
      "model_module": "@jupyter-widgets/controls",
      "model_module_version": "1.5.0",
      "model_name": "HTMLModel",
      "state": {
       "_dom_classes": [],
       "_model_module": "@jupyter-widgets/controls",
       "_model_module_version": "1.5.0",
       "_model_name": "HTMLModel",
       "_view_count": null,
       "_view_module": "@jupyter-widgets/controls",
       "_view_module_version": "1.5.0",
       "_view_name": "HTMLView",
       "description": "",
       "description_tooltip": null,
       "layout": "IPY_MODEL_9e3e49347653448b8bb6a3d874caa3ab",
       "placeholder": "​",
       "style": "IPY_MODEL_ca73a7a6fb544f88b1486d532de7a18f",
       "value": " 10/10 [15:47&lt;00:00, 97.63s/it]"
      }
     },
     "c46c6c13d6544dfa8308bd8b0afe3cae": {
      "model_module": "@jupyter-widgets/base",
      "model_module_version": "1.2.0",
      "model_name": "LayoutModel",
      "state": {
       "_model_module": "@jupyter-widgets/base",
       "_model_module_version": "1.2.0",
       "_model_name": "LayoutModel",
       "_view_count": null,
       "_view_module": "@jupyter-widgets/base",
       "_view_module_version": "1.2.0",
       "_view_name": "LayoutView",
       "align_content": null,
       "align_items": null,
       "align_self": null,
       "border": null,
       "bottom": null,
       "display": null,
       "flex": null,
       "flex_flow": null,
       "grid_area": null,
       "grid_auto_columns": null,
       "grid_auto_flow": null,
       "grid_auto_rows": null,
       "grid_column": null,
       "grid_gap": null,
       "grid_row": null,
       "grid_template_areas": null,
       "grid_template_columns": null,
       "grid_template_rows": null,
       "height": null,
       "justify_content": null,
       "justify_items": null,
       "left": null,
       "margin": null,
       "max_height": null,
       "max_width": null,
       "min_height": null,
       "min_width": null,
       "object_fit": null,
       "object_position": null,
       "order": null,
       "overflow": null,
       "overflow_x": null,
       "overflow_y": null,
       "padding": null,
       "right": null,
       "top": null,
       "visibility": null,
       "width": null
      }
     },
     "c4f82c57564a466c8f2e43fc733d11e7": {
      "model_module": "@jupyter-widgets/controls",
      "model_module_version": "1.5.0",
      "model_name": "HTMLModel",
      "state": {
       "_dom_classes": [],
       "_model_module": "@jupyter-widgets/controls",
       "_model_module_version": "1.5.0",
       "_model_name": "HTMLModel",
       "_view_count": null,
       "_view_module": "@jupyter-widgets/controls",
       "_view_module_version": "1.5.0",
       "_view_name": "HTMLView",
       "description": "",
       "description_tooltip": null,
       "layout": "IPY_MODEL_dc39ed1417e64412b7268fdd03cb9ef0",
       "placeholder": "​",
       "style": "IPY_MODEL_687332fd26fc44f396de2e018acf9f7a",
       "value": " 8/8 [21:27&lt;00:00, 156.10s/it]"
      }
     },
     "c6ef19d8539e4eb7a175f01a2e7c6e40": {
      "model_module": "@jupyter-widgets/base",
      "model_module_version": "1.2.0",
      "model_name": "LayoutModel",
      "state": {
       "_model_module": "@jupyter-widgets/base",
       "_model_module_version": "1.2.0",
       "_model_name": "LayoutModel",
       "_view_count": null,
       "_view_module": "@jupyter-widgets/base",
       "_view_module_version": "1.2.0",
       "_view_name": "LayoutView",
       "align_content": null,
       "align_items": null,
       "align_self": null,
       "border": null,
       "bottom": null,
       "display": null,
       "flex": null,
       "flex_flow": null,
       "grid_area": null,
       "grid_auto_columns": null,
       "grid_auto_flow": null,
       "grid_auto_rows": null,
       "grid_column": null,
       "grid_gap": null,
       "grid_row": null,
       "grid_template_areas": null,
       "grid_template_columns": null,
       "grid_template_rows": null,
       "height": null,
       "justify_content": null,
       "justify_items": null,
       "left": null,
       "margin": null,
       "max_height": null,
       "max_width": null,
       "min_height": null,
       "min_width": null,
       "object_fit": null,
       "object_position": null,
       "order": null,
       "overflow": null,
       "overflow_x": null,
       "overflow_y": null,
       "padding": null,
       "right": null,
       "top": null,
       "visibility": null,
       "width": null
      }
     },
     "c773bb61649f46438e01e7f578110055": {
      "model_module": "@jupyter-widgets/controls",
      "model_module_version": "1.5.0",
      "model_name": "FloatProgressModel",
      "state": {
       "_dom_classes": [],
       "_model_module": "@jupyter-widgets/controls",
       "_model_module_version": "1.5.0",
       "_model_name": "FloatProgressModel",
       "_view_count": null,
       "_view_module": "@jupyter-widgets/controls",
       "_view_module_version": "1.5.0",
       "_view_name": "ProgressView",
       "bar_style": "success",
       "description": "",
       "description_tooltip": null,
       "layout": "IPY_MODEL_1124e009c0de44819a846d61102a23e1",
       "max": 27956.0,
       "min": 0.0,
       "orientation": "horizontal",
       "style": "IPY_MODEL_78ee30c73a7745ea8f23b5d6833f28c8",
       "value": 27956.0
      }
     },
     "ca73a7a6fb544f88b1486d532de7a18f": {
      "model_module": "@jupyter-widgets/controls",
      "model_module_version": "1.5.0",
      "model_name": "DescriptionStyleModel",
      "state": {
       "_model_module": "@jupyter-widgets/controls",
       "_model_module_version": "1.5.0",
       "_model_name": "DescriptionStyleModel",
       "_view_count": null,
       "_view_module": "@jupyter-widgets/base",
       "_view_module_version": "1.2.0",
       "_view_name": "StyleView",
       "description_width": ""
      }
     },
     "d4bed7bee11b476e8c9d64a7785b48ec": {
      "model_module": "@jupyter-widgets/controls",
      "model_module_version": "1.5.0",
      "model_name": "DescriptionStyleModel",
      "state": {
       "_model_module": "@jupyter-widgets/controls",
       "_model_module_version": "1.5.0",
       "_model_name": "DescriptionStyleModel",
       "_view_count": null,
       "_view_module": "@jupyter-widgets/base",
       "_view_module_version": "1.2.0",
       "_view_name": "StyleView",
       "description_width": ""
      }
     },
     "d78f357a59f541daa5c719b2ec1450b1": {
      "model_module": "@jupyter-widgets/base",
      "model_module_version": "1.2.0",
      "model_name": "LayoutModel",
      "state": {
       "_model_module": "@jupyter-widgets/base",
       "_model_module_version": "1.2.0",
       "_model_name": "LayoutModel",
       "_view_count": null,
       "_view_module": "@jupyter-widgets/base",
       "_view_module_version": "1.2.0",
       "_view_name": "LayoutView",
       "align_content": null,
       "align_items": null,
       "align_self": null,
       "border": null,
       "bottom": null,
       "display": null,
       "flex": null,
       "flex_flow": null,
       "grid_area": null,
       "grid_auto_columns": null,
       "grid_auto_flow": null,
       "grid_auto_rows": null,
       "grid_column": null,
       "grid_gap": null,
       "grid_row": null,
       "grid_template_areas": null,
       "grid_template_columns": null,
       "grid_template_rows": null,
       "height": null,
       "justify_content": null,
       "justify_items": null,
       "left": null,
       "margin": null,
       "max_height": null,
       "max_width": null,
       "min_height": null,
       "min_width": null,
       "object_fit": null,
       "object_position": null,
       "order": null,
       "overflow": null,
       "overflow_x": null,
       "overflow_y": null,
       "padding": null,
       "right": null,
       "top": null,
       "visibility": null,
       "width": null
      }
     },
     "dc39ed1417e64412b7268fdd03cb9ef0": {
      "model_module": "@jupyter-widgets/base",
      "model_module_version": "1.2.0",
      "model_name": "LayoutModel",
      "state": {
       "_model_module": "@jupyter-widgets/base",
       "_model_module_version": "1.2.0",
       "_model_name": "LayoutModel",
       "_view_count": null,
       "_view_module": "@jupyter-widgets/base",
       "_view_module_version": "1.2.0",
       "_view_name": "LayoutView",
       "align_content": null,
       "align_items": null,
       "align_self": null,
       "border": null,
       "bottom": null,
       "display": null,
       "flex": null,
       "flex_flow": null,
       "grid_area": null,
       "grid_auto_columns": null,
       "grid_auto_flow": null,
       "grid_auto_rows": null,
       "grid_column": null,
       "grid_gap": null,
       "grid_row": null,
       "grid_template_areas": null,
       "grid_template_columns": null,
       "grid_template_rows": null,
       "height": null,
       "justify_content": null,
       "justify_items": null,
       "left": null,
       "margin": null,
       "max_height": null,
       "max_width": null,
       "min_height": null,
       "min_width": null,
       "object_fit": null,
       "object_position": null,
       "order": null,
       "overflow": null,
       "overflow_x": null,
       "overflow_y": null,
       "padding": null,
       "right": null,
       "top": null,
       "visibility": null,
       "width": null
      }
     },
     "dd1688bfa44d40508ca8c52cd0c07884": {
      "model_module": "@jupyter-widgets/base",
      "model_module_version": "1.2.0",
      "model_name": "LayoutModel",
      "state": {
       "_model_module": "@jupyter-widgets/base",
       "_model_module_version": "1.2.0",
       "_model_name": "LayoutModel",
       "_view_count": null,
       "_view_module": "@jupyter-widgets/base",
       "_view_module_version": "1.2.0",
       "_view_name": "LayoutView",
       "align_content": null,
       "align_items": null,
       "align_self": null,
       "border": null,
       "bottom": null,
       "display": null,
       "flex": null,
       "flex_flow": null,
       "grid_area": null,
       "grid_auto_columns": null,
       "grid_auto_flow": null,
       "grid_auto_rows": null,
       "grid_column": null,
       "grid_gap": null,
       "grid_row": null,
       "grid_template_areas": null,
       "grid_template_columns": null,
       "grid_template_rows": null,
       "height": null,
       "justify_content": null,
       "justify_items": null,
       "left": null,
       "margin": null,
       "max_height": null,
       "max_width": null,
       "min_height": null,
       "min_width": null,
       "object_fit": null,
       "object_position": null,
       "order": null,
       "overflow": null,
       "overflow_x": null,
       "overflow_y": null,
       "padding": null,
       "right": null,
       "top": null,
       "visibility": null,
       "width": null
      }
     },
     "e74c9305bfec441aa28cd6ae1ba91c8b": {
      "model_module": "@jupyter-widgets/controls",
      "model_module_version": "1.5.0",
      "model_name": "FloatProgressModel",
      "state": {
       "_dom_classes": [],
       "_model_module": "@jupyter-widgets/controls",
       "_model_module_version": "1.5.0",
       "_model_name": "FloatProgressModel",
       "_view_count": null,
       "_view_module": "@jupyter-widgets/controls",
       "_view_module_version": "1.5.0",
       "_view_name": "ProgressView",
       "bar_style": "success",
       "description": "",
       "description_tooltip": null,
       "layout": "IPY_MODEL_c46c6c13d6544dfa8308bd8b0afe3cae",
       "max": 8.0,
       "min": 0.0,
       "orientation": "horizontal",
       "style": "IPY_MODEL_f4d26b02fabf49579b5634f1786e8c68",
       "value": 8.0
      }
     },
     "f065bdd32e2b4f3890a1c2a6250c7f7f": {
      "model_module": "@jupyter-widgets/base",
      "model_module_version": "1.2.0",
      "model_name": "LayoutModel",
      "state": {
       "_model_module": "@jupyter-widgets/base",
       "_model_module_version": "1.2.0",
       "_model_name": "LayoutModel",
       "_view_count": null,
       "_view_module": "@jupyter-widgets/base",
       "_view_module_version": "1.2.0",
       "_view_name": "LayoutView",
       "align_content": null,
       "align_items": null,
       "align_self": null,
       "border": null,
       "bottom": null,
       "display": null,
       "flex": null,
       "flex_flow": null,
       "grid_area": null,
       "grid_auto_columns": null,
       "grid_auto_flow": null,
       "grid_auto_rows": null,
       "grid_column": null,
       "grid_gap": null,
       "grid_row": null,
       "grid_template_areas": null,
       "grid_template_columns": null,
       "grid_template_rows": null,
       "height": null,
       "justify_content": null,
       "justify_items": null,
       "left": null,
       "margin": null,
       "max_height": null,
       "max_width": null,
       "min_height": null,
       "min_width": null,
       "object_fit": null,
       "object_position": null,
       "order": null,
       "overflow": null,
       "overflow_x": null,
       "overflow_y": null,
       "padding": null,
       "right": null,
       "top": null,
       "visibility": null,
       "width": null
      }
     },
     "f14a42f16e734078b88ed47294b980e6": {
      "model_module": "@jupyter-widgets/controls",
      "model_module_version": "1.5.0",
      "model_name": "ProgressStyleModel",
      "state": {
       "_model_module": "@jupyter-widgets/controls",
       "_model_module_version": "1.5.0",
       "_model_name": "ProgressStyleModel",
       "_view_count": null,
       "_view_module": "@jupyter-widgets/base",
       "_view_module_version": "1.2.0",
       "_view_name": "StyleView",
       "bar_color": null,
       "description_width": ""
      }
     },
     "f1c02d6742054d5f8273a446c7d9d1f8": {
      "model_module": "@jupyter-widgets/controls",
      "model_module_version": "1.5.0",
      "model_name": "HTMLModel",
      "state": {
       "_dom_classes": [],
       "_model_module": "@jupyter-widgets/controls",
       "_model_module_version": "1.5.0",
       "_model_name": "HTMLModel",
       "_view_count": null,
       "_view_module": "@jupyter-widgets/controls",
       "_view_module_version": "1.5.0",
       "_view_name": "HTMLView",
       "description": "",
       "description_tooltip": null,
       "layout": "IPY_MODEL_7145c05ddd204360b43b416180210b9d",
       "placeholder": "​",
       "style": "IPY_MODEL_d4bed7bee11b476e8c9d64a7785b48ec",
       "value": " 1147074/? [01:18&lt;00:00, 15497.43it/s]"
      }
     },
     "f4d26b02fabf49579b5634f1786e8c68": {
      "model_module": "@jupyter-widgets/controls",
      "model_module_version": "1.5.0",
      "model_name": "ProgressStyleModel",
      "state": {
       "_model_module": "@jupyter-widgets/controls",
       "_model_module_version": "1.5.0",
       "_model_name": "ProgressStyleModel",
       "_view_count": null,
       "_view_module": "@jupyter-widgets/base",
       "_view_module_version": "1.2.0",
       "_view_name": "StyleView",
       "bar_color": null,
       "description_width": ""
      }
     },
     "fc36b2a1bbf54a7d8d3374f2c5153f54": {
      "model_module": "@jupyter-widgets/controls",
      "model_module_version": "1.5.0",
      "model_name": "HTMLModel",
      "state": {
       "_dom_classes": [],
       "_model_module": "@jupyter-widgets/controls",
       "_model_module_version": "1.5.0",
       "_model_name": "HTMLModel",
       "_view_count": null,
       "_view_module": "@jupyter-widgets/controls",
       "_view_module_version": "1.5.0",
       "_view_name": "HTMLView",
       "description": "",
       "description_tooltip": null,
       "layout": "IPY_MODEL_198028bfcfd6499d84fbcd02df37d68f",
       "placeholder": "​",
       "style": "IPY_MODEL_09db607a667c4379b43e807139525d84",
       "value": "100%"
      }
     },
     "fd5505ffa14c46638e1225a5d233df71": {
      "model_module": "@jupyter-widgets/controls",
      "model_module_version": "1.5.0",
      "model_name": "HBoxModel",
      "state": {
       "_dom_classes": [],
       "_model_module": "@jupyter-widgets/controls",
       "_model_module_version": "1.5.0",
       "_model_name": "HBoxModel",
       "_view_count": null,
       "_view_module": "@jupyter-widgets/controls",
       "_view_module_version": "1.5.0",
       "_view_name": "HBoxView",
       "box_style": "",
       "children": [
        "IPY_MODEL_7dbdde05cd0a47b09f963d986b2dc60c",
        "IPY_MODEL_e74c9305bfec441aa28cd6ae1ba91c8b",
        "IPY_MODEL_c4f82c57564a466c8f2e43fc733d11e7"
       ],
       "layout": "IPY_MODEL_f065bdd32e2b4f3890a1c2a6250c7f7f"
      }
     },
     "fe219aad37014d54b70186141efbb4e5": {
      "model_module": "@jupyter-widgets/base",
      "model_module_version": "1.2.0",
      "model_name": "LayoutModel",
      "state": {
       "_model_module": "@jupyter-widgets/base",
       "_model_module_version": "1.2.0",
       "_model_name": "LayoutModel",
       "_view_count": null,
       "_view_module": "@jupyter-widgets/base",
       "_view_module_version": "1.2.0",
       "_view_name": "LayoutView",
       "align_content": null,
       "align_items": null,
       "align_self": null,
       "border": null,
       "bottom": null,
       "display": null,
       "flex": null,
       "flex_flow": null,
       "grid_area": null,
       "grid_auto_columns": null,
       "grid_auto_flow": null,
       "grid_auto_rows": null,
       "grid_column": null,
       "grid_gap": null,
       "grid_row": null,
       "grid_template_areas": null,
       "grid_template_columns": null,
       "grid_template_rows": null,
       "height": null,
       "justify_content": null,
       "justify_items": null,
       "left": null,
       "margin": null,
       "max_height": null,
       "max_width": null,
       "min_height": null,
       "min_width": null,
       "object_fit": null,
       "object_position": null,
       "order": null,
       "overflow": null,
       "overflow_x": null,
       "overflow_y": null,
       "padding": null,
       "right": null,
       "top": null,
       "visibility": null,
       "width": null
      }
     }
    },
    "version_major": 2,
    "version_minor": 0
   }
  }
 },
 "nbformat": 4,
 "nbformat_minor": 5
}
